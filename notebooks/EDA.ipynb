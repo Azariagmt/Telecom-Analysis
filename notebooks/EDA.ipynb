{
  "nbformat": 4,
  "nbformat_minor": 0,
  "metadata": {
    "colab": {
      "name": "EDA.ipynb",
      "provenance": [],
      "authorship_tag": "ABX9TyP4/mGn2JbfMMLXQxe3Ce+T",
      "include_colab_link": true
    },
    "kernelspec": {
      "name": "python3",
      "display_name": "Python 3"
    },
    "language_info": {
      "name": "python"
    }
  },
  "cells": [
    {
      "cell_type": "markdown",
      "metadata": {
        "id": "view-in-github",
        "colab_type": "text"
      },
      "source": [
        "<a href=\"https://colab.research.google.com/github/Azariagmt/Telecom-Analysis/blob/notebooks/notebooks/EDA.ipynb\" target=\"_parent\"><img src=\"https://colab.research.google.com/assets/colab-badge.svg\" alt=\"Open In Colab\"/></a>"
      ]
    },
    {
      "cell_type": "markdown",
      "metadata": {
        "id": "FcGRLo6qZmWE"
      },
      "source": [
        "####  top 3 handset manufacturers\n"
      ]
    },
    {
      "cell_type": "code",
      "metadata": {
        "colab": {
          "base_uri": "https://localhost:8080/"
        },
        "id": "nJlPSaWMJflA",
        "outputId": "89b26030-9ce6-477b-8f3c-0646bce26c21"
      },
      "source": [
        "n = 3\n",
        "top_3_handsets = df_clean[df_clean['Handset Manufacturer'] != 'undefined']['Handset Manufacturer'].value_counts()[:n].index.tolist()\n",
        "top_3_handsets"
      ],
      "execution_count": null,
      "outputs": [
        {
          "output_type": "execute_result",
          "data": {
            "text/plain": [
              "['Apple', 'Samsung', 'Huawei']"
            ]
          },
          "metadata": {
            "tags": []
          },
          "execution_count": 51
        }
      ]
    },
    {
      "cell_type": "code",
      "metadata": {
        "colab": {
          "base_uri": "https://localhost:8080/"
        },
        "id": "vQOKtQSasuEY",
        "outputId": "37927427-bcf7-477a-ede2-99dd2e890d51"
      },
      "source": [
        "df_clean['Handset Manufacturer'].value_counts()[:3]"
      ],
      "execution_count": null,
      "outputs": [
        {
          "output_type": "execute_result",
          "data": {
            "text/plain": [
              "Apple      59464\n",
              "Samsung    40579\n",
              "Huawei     34366\n",
              "Name: Handset Manufacturer, dtype: int64"
            ]
          },
          "metadata": {
            "tags": []
          },
          "execution_count": 52
        }
      ]
    },
    {
      "cell_type": "markdown",
      "metadata": {
        "id": "gpKbk_2xZpjL"
      },
      "source": [
        "#### top 10 handsets used by the customers"
      ]
    },
    {
      "cell_type": "code",
      "metadata": {
        "colab": {
          "base_uri": "https://localhost:8080/"
        },
        "id": "pzQAUK7EUa75",
        "outputId": "26db4149-a02a-4d63-a12b-3e7bad45a557"
      },
      "source": [
        "n = 10\n",
        "df_clean[df_clean['Handset Type'] != 'undefined']['Handset Type'].value_counts()[:n].index.tolist()"
      ],
      "execution_count": null,
      "outputs": [
        {
          "output_type": "execute_result",
          "data": {
            "text/plain": [
              "['Huawei B528S-23A',\n",
              " 'Apple iPhone 6S (A1688)',\n",
              " 'Apple iPhone 6 (A1586)',\n",
              " 'Apple iPhone 7 (A1778)',\n",
              " 'Apple iPhone Se (A1723)',\n",
              " 'Apple iPhone 8 (A1905)',\n",
              " 'Apple iPhone Xr (A2105)',\n",
              " 'Samsung Galaxy S8 (Sm-G950F)',\n",
              " 'Apple iPhone X (A1901)',\n",
              " 'Samsung Galaxy A5 Sm-A520F']"
            ]
          },
          "metadata": {
            "tags": []
          },
          "execution_count": 53
        }
      ]
    },
    {
      "cell_type": "markdown",
      "metadata": {
        "id": "LoaNUVSrZdrS"
      },
      "source": [
        "####  top 5 handsets per top 3 handset manufacturer\n"
      ]
    },
    {
      "cell_type": "code",
      "metadata": {
        "colab": {
          "base_uri": "https://localhost:8080/"
        },
        "id": "lsouZtmjYiFl",
        "outputId": "514e7a37-d00e-4c8f-d7f5-9f18bd838b40"
      },
      "source": [
        "n = 5\n",
        "for manufacturer in top_3_handsets:\n",
        "  handsets = top_3_handsets_df[top_3_handsets_df['Handset Manufacturer'] == manufacturer]['Handset Type'].value_counts()[:n].index.tolist()\n",
        "  for item in handsets:\n",
        "    val = top_3_handsets_df[top_3_handsets_df['Handset Manufacturer'] == manufacturer]['Handset Type'].value_counts()[item]\n",
        "    print(f'{item} with {val} number of devices')"
      ],
      "execution_count": null,
      "outputs": [
        {
          "output_type": "stream",
          "text": [
            "Apple iPhone 6S (A1688) with 9419 number of devices\n",
            "Apple iPhone 6 (A1586) with 9023 number of devices\n",
            "Apple iPhone 7 (A1778) with 6326 number of devices\n",
            "Apple iPhone Se (A1723) with 5187 number of devices\n",
            "Apple iPhone 8 (A1905) with 4993 number of devices\n",
            "Samsung Galaxy S8 (Sm-G950F) with 4520 number of devices\n",
            "Samsung Galaxy A5 Sm-A520F with 3724 number of devices\n",
            "Samsung Galaxy J5 (Sm-J530) with 3696 number of devices\n",
            "Samsung Galaxy J3 (Sm-J330) with 3484 number of devices\n",
            "Samsung Galaxy S7 (Sm-G930X) with 3199 number of devices\n",
            "Huawei B528S-23A with 19752 number of devices\n",
            "Huawei E5180 with 2079 number of devices\n",
            "Huawei P20 Lite Huawei Nova 3E with 2021 number of devices\n",
            "Huawei P20 with 1480 number of devices\n",
            "Huawei Y6 2018 with 997 number of devices\n"
          ],
          "name": "stdout"
        }
      ]
    },
    {
      "cell_type": "markdown",
      "metadata": {
        "id": "XtKKx7l8bXAf"
      },
      "source": [
        "#### number of xDR sessions"
      ]
    },
    {
      "cell_type": "code",
      "metadata": {
        "id": "wAERv0kGYz1m",
        "colab": {
          "base_uri": "https://localhost:8080/"
        },
        "outputId": "dfab500a-88ef-4283-e28b-1a8554e116d3"
      },
      "source": [
        "# df.copy()\n",
        "# 150001\n",
        "len(df_clean)"
      ],
      "execution_count": null,
      "outputs": [
        {
          "output_type": "execute_result",
          "data": {
            "text/plain": [
              "148935"
            ]
          },
          "metadata": {
            "tags": []
          },
          "execution_count": 57
        }
      ]
    },
    {
      "cell_type": "markdown",
      "metadata": {
        "id": "zasenU8tu68o"
      },
      "source": [
        "just saw that there is a duration column"
      ]
    },
    {
      "cell_type": "markdown",
      "metadata": {
        "id": "9xNIRzcGn4At"
      },
      "source": [
        "#### total download (DL) and upload (UL) data\n"
      ]
    },
    {
      "cell_type": "code",
      "metadata": {
        "colab": {
          "base_uri": "https://localhost:8080/"
        },
        "id": "7ySNXhsGm_Fa",
        "outputId": "cc646bf9-3dca-4e17-f9b1-9778be29b371"
      },
      "source": [
        "df['HTTP DL (Bytes)'].sum()"
      ],
      "execution_count": null,
      "outputs": [
        {
          "output_type": "execute_result",
          "data": {
            "text/plain": [
              "7844355841219.0"
            ]
          },
          "metadata": {
            "tags": []
          },
          "execution_count": 95
        }
      ]
    },
    {
      "cell_type": "code",
      "metadata": {
        "colab": {
          "base_uri": "https://localhost:8080/"
        },
        "id": "QbjayrHEsgXv",
        "outputId": "d7e7cb85-1144-4fd7-8012-6e7965cdaec2"
      },
      "source": [
        "df['HTTP UL (Bytes)'].sum()"
      ],
      "execution_count": null,
      "outputs": [
        {
          "output_type": "execute_result",
          "data": {
            "text/plain": [
              "221095773736.0"
            ]
          },
          "metadata": {
            "tags": []
          },
          "execution_count": 97
        }
      ]
    },
    {
      "cell_type": "markdown",
      "metadata": {
        "id": "1UqO5ZWys-jv"
      },
      "source": [
        "#### total data volume (in Bytes) during this session for each application"
      ]
    },
    {
      "cell_type": "code",
      "metadata": {
        "colab": {
          "base_uri": "https://localhost:8080/"
        },
        "id": "gd_W308-soie",
        "outputId": "874cfc1b-8221-4118-ec27-602ff84bdfe9"
      },
      "source": [
        "social_medias = ['Social Media DL (Bytes)',\n",
        " 'Social Media UL (Bytes)',\n",
        " 'Google DL (Bytes)',\n",
        " 'Google UL (Bytes)',\n",
        " 'Email DL (Bytes)',\n",
        " 'Email UL (Bytes)',\n",
        " 'Youtube DL (Bytes)',\n",
        " 'Youtube UL (Bytes)',\n",
        " 'Netflix DL (Bytes)',\n",
        " 'Netflix UL (Bytes)',\n",
        " 'Gaming DL (Bytes)',\n",
        " 'Gaming UL (Bytes)',\n",
        " 'Other DL (Bytes)',\n",
        " 'Other UL (Bytes)',\n",
        " 'Total UL (Bytes)',\n",
        " 'Total DL (Bytes)']\n",
        "social_media_object = []\n",
        "for social_media in social_medias:\n",
        "  print(f'{df[social_media]} has {df[social_media].sum()} Bytes used in session')\n",
        "  social_media_object.append((social_media, df[social_media].sum()))\n",
        "print(social_media_object)"
      ],
      "execution_count": null,
      "outputs": [
        {
          "output_type": "stream",
          "text": [
            "1970-01-01 00:00:00.000000000    1.545765e+06\n",
            "1970-01-01 00:00:00.000000001    1.926113e+06\n",
            "1970-01-01 00:00:00.000000002    1.684053e+06\n",
            "1970-01-01 00:00:00.000000003    6.441210e+05\n",
            "1970-01-01 00:00:00.000000004    8.626000e+05\n",
            "                                     ...     \n",
            "1970-01-01 00:00:00.000149996    3.464974e+06\n",
            "1970-01-01 00:00:00.000149997    2.344568e+06\n",
            "1970-01-01 00:00:00.000149998    1.245845e+06\n",
            "1970-01-01 00:00:00.000149999    8.015470e+05\n",
            "1970-01-01 00:00:00.000150000    1.795322e+06\n",
            "Name: Social Media DL (Bytes), Length: 150001, dtype: float64 has 269300061368.77365 Bytes used in session\n",
            "1970-01-01 00:00:00.000000000    24420.00000\n",
            "1970-01-01 00:00:00.000000001    7165.00000 \n",
            "1970-01-01 00:00:00.000000002    42224.00000\n",
            "1970-01-01 00:00:00.000000003    13372.00000\n",
            "1970-01-01 00:00:00.000000004    50188.00000\n",
            "                                    ...     \n",
            "1970-01-01 00:00:00.000149996    52091.00000\n",
            "1970-01-01 00:00:00.000149997    7613.00000 \n",
            "1970-01-01 00:00:00.000149998    14394.00000\n",
            "1970-01-01 00:00:00.000149999    21562.00000\n",
            "1970-01-01 00:00:00.000150000    32928.43438\n",
            "Name: Social Media UL (Bytes), Length: 150001, dtype: float64 has 4939298085.43438 Bytes used in session\n",
            "1970-01-01 00:00:00.000000000    1.634479e+06\n",
            "1970-01-01 00:00:00.000000001    3.493924e+06\n",
            "1970-01-01 00:00:00.000000002    8.535055e+06\n",
            "1970-01-01 00:00:00.000000003    9.023734e+06\n",
            "1970-01-01 00:00:00.000000004    6.248284e+06\n",
            "                                     ...     \n",
            "1970-01-01 00:00:00.000149996    9.967603e+06\n",
            "1970-01-01 00:00:00.000149997    2.229420e+06\n",
            "1970-01-01 00:00:00.000149998    3.850890e+06\n",
            "1970-01-01 00:00:00.000149999    4.189773e+06\n",
            "1970-01-01 00:00:00.000150000    5.750753e+06\n",
            "Name: Google DL (Bytes), Length: 150001, dtype: float64 has 862618643645.6193 Bytes used in session\n",
            "1970-01-01 00:00:00.000000000    1.271433e+06\n",
            "1970-01-01 00:00:00.000000001    9.201720e+05\n",
            "1970-01-01 00:00:00.000000002    1.694064e+06\n",
            "1970-01-01 00:00:00.000000003    2.788027e+06\n",
            "1970-01-01 00:00:00.000000004    1.500559e+06\n",
            "                                     ...     \n",
            "1970-01-01 00:00:00.000149996    2.817311e+06\n",
            "1970-01-01 00:00:00.000149997    2.185941e+06\n",
            "1970-01-01 00:00:00.000149998    2.734579e+06\n",
            "1970-01-01 00:00:00.000149999    3.567494e+06\n",
            "1970-01-01 00:00:00.000150000    2.056542e+06\n",
            "Name: Google UL (Bytes), Length: 150001, dtype: float64 has 308483345484.9263 Bytes used in session\n",
            "1970-01-01 00:00:00.000000000    3.563542e+06\n",
            "1970-01-01 00:00:00.000000001    6.290460e+05\n",
            "1970-01-01 00:00:00.000000002    2.690151e+06\n",
            "1970-01-01 00:00:00.000000003    1.439754e+06\n",
            "1970-01-01 00:00:00.000000004    1.936496e+06\n",
            "                                     ...     \n",
            "1970-01-01 00:00:00.000149996    5.763900e+04\n",
            "1970-01-01 00:00:00.000149997    1.954414e+06\n",
            "1970-01-01 00:00:00.000149998    1.525734e+06\n",
            "1970-01-01 00:00:00.000149999    2.228270e+06\n",
            "1970-01-01 00:00:00.000150000    1.791729e+06\n",
            "Name: Email DL (Bytes), Length: 150001, dtype: float64 has 268761121931.868 Bytes used in session\n",
            "1970-01-01 00:00:00.000000000    137762.00000\n",
            "1970-01-01 00:00:00.000000001    308339.00000\n",
            "1970-01-01 00:00:00.000000002    672973.00000\n",
            "1970-01-01 00:00:00.000000003    631229.00000\n",
            "1970-01-01 00:00:00.000000004    173853.00000\n",
            "                                     ...     \n",
            "1970-01-01 00:00:00.000149996    633237.00000\n",
            "1970-01-01 00:00:00.000149997    167304.00000\n",
            "1970-01-01 00:00:00.000149998    532543.00000\n",
            "1970-01-01 00:00:00.000149999    622644.00000\n",
            "1970-01-01 00:00:00.000150000    467373.44194\n",
            "Name: Email UL (Bytes), Length: 150001, dtype: float64 has 70106483664.44194 Bytes used in session\n",
            "1970-01-01 00:00:00.000000000    1.585461e+07\n",
            "1970-01-01 00:00:00.000000001    2.024740e+07\n",
            "1970-01-01 00:00:00.000000002    1.972566e+07\n",
            "1970-01-01 00:00:00.000000003    2.138812e+07\n",
            "1970-01-01 00:00:00.000000004    1.525938e+07\n",
            "                                     ...     \n",
            "1970-01-01 00:00:00.000149996    1.619167e+07\n",
            "1970-01-01 00:00:00.000149997    1.387723e+07\n",
            "1970-01-01 00:00:00.000149998    2.266051e+07\n",
            "1970-01-01 00:00:00.000149999    8.817106e+06\n",
            "1970-01-01 00:00:00.000150000    1.163407e+07\n",
            "Name: Youtube DL (Bytes), Length: 150001, dtype: float64 has 1745122509657.504 Bytes used in session\n",
            "1970-01-01 00:00:00.000000000    2.501332e+06\n",
            "1970-01-01 00:00:00.000000001    1.911173e+07\n",
            "1970-01-01 00:00:00.000000002    1.469958e+07\n",
            "1970-01-01 00:00:00.000000003    1.514664e+07\n",
            "1970-01-01 00:00:00.000000004    1.896287e+07\n",
            "                                     ...     \n",
            "1970-01-01 00:00:00.000149996    1.176343e+07\n",
            "1970-01-01 00:00:00.000149997    8.288284e+06\n",
            "1970-01-01 00:00:00.000149998    1.855903e+06\n",
            "1970-01-01 00:00:00.000149999    8.305402e+06\n",
            "1970-01-01 00:00:00.000150000    1.100941e+07\n",
            "Name: Youtube UL (Bytes), Length: 150001, dtype: float64 has 1651422529615.1348 Bytes used in session\n",
            "1970-01-01 00:00:00.000000000    8.198936e+06\n",
            "1970-01-01 00:00:00.000000001    1.833841e+07\n",
            "1970-01-01 00:00:00.000000002    1.758779e+07\n",
            "1970-01-01 00:00:00.000000003    1.399465e+07\n",
            "1970-01-01 00:00:00.000000004    1.712458e+07\n",
            "                                     ...     \n",
            "1970-01-01 00:00:00.000149996    1.788370e+07\n",
            "1970-01-01 00:00:00.000149997    1.935015e+07\n",
            "1970-01-01 00:00:00.000149998    9.963942e+06\n",
            "1970-01-01 00:00:00.000149999    3.322253e+06\n",
            "1970-01-01 00:00:00.000150000    1.162685e+07\n",
            "Name: Netflix DL (Bytes), Length: 150001, dtype: float64 has 1744039384662.7188 Bytes used in session\n",
            "1970-01-01 00:00:00.000000000    9.656251e+06\n",
            "1970-01-01 00:00:00.000000001    1.722713e+07\n",
            "1970-01-01 00:00:00.000000002    6.163408e+06\n",
            "1970-01-01 00:00:00.000000003    1.097942e+06\n",
            "1970-01-01 00:00:00.000000004    4.152180e+05\n",
            "                                     ...     \n",
            "1970-01-01 00:00:00.000149996    1.967816e+07\n",
            "1970-01-01 00:00:00.000149997    2.129315e+07\n",
            "1970-01-01 00:00:00.000149998    5.065760e+06\n",
            "1970-01-01 00:00:00.000149999    1.317259e+07\n",
            "1970-01-01 00:00:00.000150000    1.100175e+07\n",
            "Name: Netflix UL (Bytes), Length: 150001, dtype: float64 has 1650274224700.8196 Bytes used in session\n",
            "1970-01-01 00:00:00.000000000    2.780823e+08\n",
            "1970-01-01 00:00:00.000000001    6.087501e+08\n",
            "1970-01-01 00:00:00.000000002    2.295846e+08\n",
            "1970-01-01 00:00:00.000000003    7.995382e+08\n",
            "1970-01-01 00:00:00.000000004    5.277072e+08\n",
            "                                     ...     \n",
            "1970-01-01 00:00:00.000149996    5.266097e+08\n",
            "1970-01-01 00:00:00.000149997    6.268931e+08\n",
            "1970-01-01 00:00:00.000149998    5.535395e+08\n",
            "1970-01-01 00:00:00.000149999    3.525370e+08\n",
            "1970-01-01 00:00:00.000150000    4.220447e+08\n",
            "Name: Gaming DL (Bytes), Length: 150001, dtype: float64 has 63307127434008.59 Bytes used in session\n",
            "1970-01-01 00:00:00.000000000    1.434415e+07\n",
            "1970-01-01 00:00:00.000000001    1.170709e+06\n",
            "1970-01-01 00:00:00.000000002    3.956300e+05\n",
            "1970-01-01 00:00:00.000000003    1.084972e+07\n",
            "1970-01-01 00:00:00.000000004    3.529801e+06\n",
            "                                     ...     \n",
            "1970-01-01 00:00:00.000149996    9.197207e+06\n",
            "1970-01-01 00:00:00.000149997    4.735033e+06\n",
            "1970-01-01 00:00:00.000149998    1.339432e+07\n",
            "1970-01-01 00:00:00.000149999    2.529475e+06\n",
            "1970-01-01 00:00:00.000150000    8.288398e+06\n",
            "Name: Gaming UL (Bytes), Length: 150001, dtype: float64 has 1243268005008.1108 Bytes used in session\n",
            "1970-01-01 00:00:00.000000000    1.717444e+08\n",
            "1970-01-01 00:00:00.000000001    5.269042e+08\n",
            "1970-01-01 00:00:00.000000002    4.106926e+08\n",
            "1970-01-01 00:00:00.000000003    7.490399e+08\n",
            "1970-01-01 00:00:00.000000004    5.507095e+08\n",
            "                                     ...     \n",
            "1970-01-01 00:00:00.000149996    3.264510e+06\n",
            "1970-01-01 00:00:00.000149997    7.121804e+08\n",
            "1970-01-01 00:00:00.000149998    1.211009e+08\n",
            "1970-01-01 00:00:00.000149999    8.147131e+08\n",
            "1970-01-01 00:00:00.000150000    4.211005e+08\n",
            "Name: Other DL (Bytes), Length: 150001, dtype: float64 has 63165502729718.195 Bytes used in session\n",
            "1970-01-01 00:00:00.000000000    8.814393e+06\n",
            "1970-01-01 00:00:00.000000001    1.505514e+07\n",
            "1970-01-01 00:00:00.000000002    4.215763e+06\n",
            "1970-01-01 00:00:00.000000003    1.279728e+07\n",
            "1970-01-01 00:00:00.000000004    1.391032e+07\n",
            "                                     ...     \n",
            "1970-01-01 00:00:00.000149996    1.348742e+07\n",
            "1970-01-01 00:00:00.000149997    2.457758e+06\n",
            "1970-01-01 00:00:00.000149998    1.131473e+07\n",
            "1970-01-01 00:00:00.000149999    1.406930e+06\n",
            "1970-01-01 00:00:00.000150000    8.264799e+06\n",
            "Name: Other UL (Bytes), Length: 150001, dtype: float64 has 1239728178463.4243 Bytes used in session\n",
            "1970-01-01 00:00:00.000000000    36749741.0\n",
            "1970-01-01 00:00:00.000000001    53800391.0\n",
            "1970-01-01 00:00:00.000000002    27883638.0\n",
            "1970-01-01 00:00:00.000000003    43324218.0\n",
            "1970-01-01 00:00:00.000000004    38542814.0\n",
            "                                    ...    \n",
            "1970-01-01 00:00:00.000149996    57628851.0\n",
            "1970-01-01 00:00:00.000149997    39135081.0\n",
            "1970-01-01 00:00:00.000149998    34912224.0\n",
            "1970-01-01 00:00:00.000149999    29626096.0\n",
            "1970-01-01 00:00:00.000150000   NaN        \n",
            "Name: Total UL (Bytes), Length: 150001, dtype: float64 has 6168180943816.0 Bytes used in session\n",
            "1970-01-01 00:00:00.000000000    308879636.0\n",
            "1970-01-01 00:00:00.000000001    653384965.0\n",
            "1970-01-01 00:00:00.000000002    279807335.0\n",
            "1970-01-01 00:00:00.000000003    846028530.0\n",
            "1970-01-01 00:00:00.000000004    569138589.0\n",
            "                                    ...     \n",
            "1970-01-01 00:00:00.000149996    574175259.0\n",
            "1970-01-01 00:00:00.000149997    666648844.0\n",
            "1970-01-01 00:00:00.000149998    592786405.0\n",
            "1970-01-01 00:00:00.000149999    371895920.0\n",
            "1970-01-01 00:00:00.000150000   NaN         \n",
            "Name: Total DL (Bytes), Length: 150001, dtype: float64 has 68196514511845.0 Bytes used in session\n",
            "[('Social Media DL (Bytes)', 269300061368.77365), ('Social Media UL (Bytes)', 4939298085.43438), ('Google DL (Bytes)', 862618643645.6193), ('Google UL (Bytes)', 308483345484.9263), ('Email DL (Bytes)', 268761121931.868), ('Email UL (Bytes)', 70106483664.44194), ('Youtube DL (Bytes)', 1745122509657.504), ('Youtube UL (Bytes)', 1651422529615.1348), ('Netflix DL (Bytes)', 1744039384662.7188), ('Netflix UL (Bytes)', 1650274224700.8196), ('Gaming DL (Bytes)', 63307127434008.59), ('Gaming UL (Bytes)', 1243268005008.1108), ('Other DL (Bytes)', 63165502729718.195), ('Other UL (Bytes)', 1239728178463.4243), ('Total UL (Bytes)', 6168180943816.0), ('Total DL (Bytes)', 68196514511845.0)]\n"
          ],
          "name": "stdout"
        }
      ]
    },
    {
      "cell_type": "markdown",
      "metadata": {
        "id": "EbzOJ4iR21nD"
      },
      "source": [
        "### Non graphical Univariate analysis"
      ]
    },
    {
      "cell_type": "code",
      "metadata": {
        "colab": {
          "base_uri": "https://localhost:8080/",
          "height": 294
        },
        "id": "SU9B4-40xNZJ",
        "outputId": "694bfbfc-b83f-487d-e31d-3252d0f691b8"
      },
      "source": [
        "df[['duration',\"Total DL (Bytes)\",'Total UL (Bytes)']].describe()"
      ],
      "execution_count": null,
      "outputs": [
        {
          "output_type": "execute_result",
          "data": {
            "text/html": [
              "<div>\n",
              "<style scoped>\n",
              "    .dataframe tbody tr th:only-of-type {\n",
              "        vertical-align: middle;\n",
              "    }\n",
              "\n",
              "    .dataframe tbody tr th {\n",
              "        vertical-align: top;\n",
              "    }\n",
              "\n",
              "    .dataframe thead th {\n",
              "        text-align: right;\n",
              "    }\n",
              "</style>\n",
              "<table border=\"1\" class=\"dataframe\">\n",
              "  <thead>\n",
              "    <tr style=\"text-align: right;\">\n",
              "      <th></th>\n",
              "      <th>duration</th>\n",
              "      <th>Total DL (Bytes)</th>\n",
              "      <th>Total UL (Bytes)</th>\n",
              "    </tr>\n",
              "  </thead>\n",
              "  <tbody>\n",
              "    <tr>\n",
              "      <th>count</th>\n",
              "      <td>1.500000e+05</td>\n",
              "      <td>1.500000e+05</td>\n",
              "      <td>1.500000e+05</td>\n",
              "    </tr>\n",
              "    <tr>\n",
              "      <th>mean</th>\n",
              "      <td>1.046091e+05</td>\n",
              "      <td>4.546434e+08</td>\n",
              "      <td>4.112121e+07</td>\n",
              "    </tr>\n",
              "    <tr>\n",
              "      <th>std</th>\n",
              "      <td>8.103761e+04</td>\n",
              "      <td>2.441429e+08</td>\n",
              "      <td>1.127639e+07</td>\n",
              "    </tr>\n",
              "    <tr>\n",
              "      <th>min</th>\n",
              "      <td>7.143000e+03</td>\n",
              "      <td>7.114041e+06</td>\n",
              "      <td>2.866892e+06</td>\n",
              "    </tr>\n",
              "    <tr>\n",
              "      <th>25%</th>\n",
              "      <td>5.744075e+04</td>\n",
              "      <td>2.431068e+08</td>\n",
              "      <td>3.322201e+07</td>\n",
              "    </tr>\n",
              "    <tr>\n",
              "      <th>50%</th>\n",
              "      <td>8.640000e+04</td>\n",
              "      <td>4.558411e+08</td>\n",
              "      <td>4.114331e+07</td>\n",
              "    </tr>\n",
              "    <tr>\n",
              "      <th>75%</th>\n",
              "      <td>1.324302e+05</td>\n",
              "      <td>6.657055e+08</td>\n",
              "      <td>4.903424e+07</td>\n",
              "    </tr>\n",
              "    <tr>\n",
              "      <th>max</th>\n",
              "      <td>1.859337e+06</td>\n",
              "      <td>9.029696e+08</td>\n",
              "      <td>7.833131e+07</td>\n",
              "    </tr>\n",
              "  </tbody>\n",
              "</table>\n",
              "</div>"
            ],
            "text/plain": [
              "           duration  Total DL (Bytes)  Total UL (Bytes)\n",
              "count  1.500000e+05  1.500000e+05      1.500000e+05    \n",
              "mean   1.046091e+05  4.546434e+08      4.112121e+07    \n",
              "std    8.103761e+04  2.441429e+08      1.127639e+07    \n",
              "min    7.143000e+03  7.114041e+06      2.866892e+06    \n",
              "25%    5.744075e+04  2.431068e+08      3.322201e+07    \n",
              "50%    8.640000e+04  4.558411e+08      4.114331e+07    \n",
              "75%    1.324302e+05  6.657055e+08      4.903424e+07    \n",
              "max    1.859337e+06  9.029696e+08      7.833131e+07    "
            ]
          },
          "metadata": {
            "tags": []
          },
          "execution_count": 230
        }
      ]
    },
    {
      "cell_type": "code",
      "metadata": {
        "colab": {
          "base_uri": "https://localhost:8080/",
          "height": 347
        },
        "id": "QlEwoYIX4QAw",
        "outputId": "eace37bc-0016-474e-a8fc-139555253d56"
      },
      "source": [
        "df[social_medias].describe()"
      ],
      "execution_count": null,
      "outputs": [
        {
          "output_type": "execute_result",
          "data": {
            "text/html": [
              "<div>\n",
              "<style scoped>\n",
              "    .dataframe tbody tr th:only-of-type {\n",
              "        vertical-align: middle;\n",
              "    }\n",
              "\n",
              "    .dataframe tbody tr th {\n",
              "        vertical-align: top;\n",
              "    }\n",
              "\n",
              "    .dataframe thead th {\n",
              "        text-align: right;\n",
              "    }\n",
              "</style>\n",
              "<table border=\"1\" class=\"dataframe\">\n",
              "  <thead>\n",
              "    <tr style=\"text-align: right;\">\n",
              "      <th></th>\n",
              "      <th>Social Media DL (Bytes)</th>\n",
              "      <th>Social Media UL (Bytes)</th>\n",
              "      <th>Google DL (Bytes)</th>\n",
              "      <th>Google UL (Bytes)</th>\n",
              "      <th>Email DL (Bytes)</th>\n",
              "      <th>Email UL (Bytes)</th>\n",
              "      <th>Youtube DL (Bytes)</th>\n",
              "      <th>Youtube UL (Bytes)</th>\n",
              "      <th>Netflix DL (Bytes)</th>\n",
              "      <th>Netflix UL (Bytes)</th>\n",
              "      <th>Gaming DL (Bytes)</th>\n",
              "      <th>Gaming UL (Bytes)</th>\n",
              "      <th>Other DL (Bytes)</th>\n",
              "      <th>Other UL (Bytes)</th>\n",
              "      <th>Total UL (Bytes)</th>\n",
              "      <th>Total DL (Bytes)</th>\n",
              "    </tr>\n",
              "  </thead>\n",
              "  <tbody>\n",
              "    <tr>\n",
              "      <th>count</th>\n",
              "      <td>1.500010e+05</td>\n",
              "      <td>150001.000000</td>\n",
              "      <td>1.500010e+05</td>\n",
              "      <td>1.500010e+05</td>\n",
              "      <td>1.500010e+05</td>\n",
              "      <td>150001.000000</td>\n",
              "      <td>1.500010e+05</td>\n",
              "      <td>1.500010e+05</td>\n",
              "      <td>1.500010e+05</td>\n",
              "      <td>1.500010e+05</td>\n",
              "      <td>1.500010e+05</td>\n",
              "      <td>1.500010e+05</td>\n",
              "      <td>1.500010e+05</td>\n",
              "      <td>1.500010e+05</td>\n",
              "      <td>1.500000e+05</td>\n",
              "      <td>1.500000e+05</td>\n",
              "    </tr>\n",
              "    <tr>\n",
              "      <th>mean</th>\n",
              "      <td>1.795322e+06</td>\n",
              "      <td>32928.434380</td>\n",
              "      <td>5.750753e+06</td>\n",
              "      <td>2.056542e+06</td>\n",
              "      <td>1.791729e+06</td>\n",
              "      <td>467373.441940</td>\n",
              "      <td>1.163407e+07</td>\n",
              "      <td>1.100941e+07</td>\n",
              "      <td>1.162685e+07</td>\n",
              "      <td>1.100175e+07</td>\n",
              "      <td>4.220447e+08</td>\n",
              "      <td>8.288398e+06</td>\n",
              "      <td>4.211005e+08</td>\n",
              "      <td>8.264799e+06</td>\n",
              "      <td>4.112121e+07</td>\n",
              "      <td>4.546434e+08</td>\n",
              "    </tr>\n",
              "    <tr>\n",
              "      <th>std</th>\n",
              "      <td>1.035482e+06</td>\n",
              "      <td>19006.178256</td>\n",
              "      <td>3.309097e+06</td>\n",
              "      <td>1.189917e+06</td>\n",
              "      <td>1.035840e+06</td>\n",
              "      <td>269969.307031</td>\n",
              "      <td>6.710569e+06</td>\n",
              "      <td>6.345423e+06</td>\n",
              "      <td>6.725218e+06</td>\n",
              "      <td>6.359490e+06</td>\n",
              "      <td>2.439675e+08</td>\n",
              "      <td>4.782700e+06</td>\n",
              "      <td>2.432050e+08</td>\n",
              "      <td>4.769004e+06</td>\n",
              "      <td>1.127639e+07</td>\n",
              "      <td>2.441429e+08</td>\n",
              "    </tr>\n",
              "    <tr>\n",
              "      <th>min</th>\n",
              "      <td>1.200000e+01</td>\n",
              "      <td>0.000000</td>\n",
              "      <td>2.070000e+02</td>\n",
              "      <td>3.000000e+00</td>\n",
              "      <td>1.400000e+01</td>\n",
              "      <td>2.000000</td>\n",
              "      <td>5.300000e+01</td>\n",
              "      <td>1.050000e+02</td>\n",
              "      <td>4.200000e+01</td>\n",
              "      <td>3.500000e+01</td>\n",
              "      <td>2.516000e+03</td>\n",
              "      <td>5.900000e+01</td>\n",
              "      <td>3.290000e+03</td>\n",
              "      <td>1.480000e+02</td>\n",
              "      <td>2.866892e+06</td>\n",
              "      <td>7.114041e+06</td>\n",
              "    </tr>\n",
              "    <tr>\n",
              "      <th>25%</th>\n",
              "      <td>8.991480e+05</td>\n",
              "      <td>16448.000000</td>\n",
              "      <td>2.882393e+06</td>\n",
              "      <td>1.024279e+06</td>\n",
              "      <td>8.927930e+05</td>\n",
              "      <td>233383.000000</td>\n",
              "      <td>5.833501e+06</td>\n",
              "      <td>5.517965e+06</td>\n",
              "      <td>5.777156e+06</td>\n",
              "      <td>5.475981e+06</td>\n",
              "      <td>2.104733e+08</td>\n",
              "      <td>4.128476e+06</td>\n",
              "      <td>2.101869e+08</td>\n",
              "      <td>4.145943e+06</td>\n",
              "      <td>3.322201e+07</td>\n",
              "      <td>2.431068e+08</td>\n",
              "    </tr>\n",
              "    <tr>\n",
              "      <th>50%</th>\n",
              "      <td>1.794369e+06</td>\n",
              "      <td>32920.000000</td>\n",
              "      <td>5.765829e+06</td>\n",
              "      <td>2.054573e+06</td>\n",
              "      <td>1.793505e+06</td>\n",
              "      <td>466250.000000</td>\n",
              "      <td>1.161602e+07</td>\n",
              "      <td>1.101345e+07</td>\n",
              "      <td>1.164222e+07</td>\n",
              "      <td>1.099638e+07</td>\n",
              "      <td>4.234081e+08</td>\n",
              "      <td>8.291208e+06</td>\n",
              "      <td>4.218030e+08</td>\n",
              "      <td>8.267071e+06</td>\n",
              "      <td>4.114331e+07</td>\n",
              "      <td>4.558411e+08</td>\n",
              "    </tr>\n",
              "    <tr>\n",
              "      <th>75%</th>\n",
              "      <td>2.694938e+06</td>\n",
              "      <td>49334.000000</td>\n",
              "      <td>8.623552e+06</td>\n",
              "      <td>3.088454e+06</td>\n",
              "      <td>2.689327e+06</td>\n",
              "      <td>700440.000000</td>\n",
              "      <td>1.744852e+07</td>\n",
              "      <td>1.651556e+07</td>\n",
              "      <td>1.747048e+07</td>\n",
              "      <td>1.650727e+07</td>\n",
              "      <td>6.331742e+08</td>\n",
              "      <td>1.243162e+07</td>\n",
              "      <td>6.316918e+08</td>\n",
              "      <td>1.238415e+07</td>\n",
              "      <td>4.903424e+07</td>\n",
              "      <td>6.657055e+08</td>\n",
              "    </tr>\n",
              "    <tr>\n",
              "      <th>max</th>\n",
              "      <td>3.586064e+06</td>\n",
              "      <td>65870.000000</td>\n",
              "      <td>1.146283e+07</td>\n",
              "      <td>4.121357e+06</td>\n",
              "      <td>3.586146e+06</td>\n",
              "      <td>936418.000000</td>\n",
              "      <td>2.325910e+07</td>\n",
              "      <td>2.201196e+07</td>\n",
              "      <td>2.325919e+07</td>\n",
              "      <td>2.201196e+07</td>\n",
              "      <td>8.434419e+08</td>\n",
              "      <td>1.655879e+07</td>\n",
              "      <td>8.434425e+08</td>\n",
              "      <td>1.655882e+07</td>\n",
              "      <td>7.833131e+07</td>\n",
              "      <td>9.029696e+08</td>\n",
              "    </tr>\n",
              "  </tbody>\n",
              "</table>\n",
              "</div>"
            ],
            "text/plain": [
              "       Social Media DL (Bytes)  ...  Total DL (Bytes)\n",
              "count  1.500010e+05             ...  1.500000e+05    \n",
              "mean   1.795322e+06             ...  4.546434e+08    \n",
              "std    1.035482e+06             ...  2.441429e+08    \n",
              "min    1.200000e+01             ...  7.114041e+06    \n",
              "25%    8.991480e+05             ...  2.431068e+08    \n",
              "50%    1.794369e+06             ...  4.558411e+08    \n",
              "75%    2.694938e+06             ...  6.657055e+08    \n",
              "max    3.586064e+06             ...  9.029696e+08    \n",
              "\n",
              "[8 rows x 16 columns]"
            ]
          },
          "metadata": {
            "tags": []
          },
          "execution_count": 120
        }
      ]
    },
    {
      "cell_type": "markdown",
      "metadata": {
        "id": "XSCJSJmFGG0I"
      },
      "source": [
        "### Graphical Univariate Analysis"
      ]
    },
    {
      "cell_type": "code",
      "metadata": {
        "id": "pgoiZK73D2Ae"
      },
      "source": [
        "# df[['duration',\"HTTP DL (Bytes)\",'HTTP UL (Bytes)']]\n",
        "scaled_df\n",
        "df[['duration',\"HTTP DL (Bytes)\",'HTTP UL (Bytes)']]\n",
        "df[[\"HTTP DL (Bytes)\",'HTTP UL (Bytes)']].isnull().sum()\n",
        "graph_df = df[df[[\"duration\",\"Total UL (Bytes)\",'Total DL (Bytes)']].notnull()]\n"
      ],
      "execution_count": null,
      "outputs": []
    },
    {
      "cell_type": "code",
      "metadata": {
        "colab": {
          "base_uri": "https://localhost:8080/",
          "height": 414
        },
        "id": "GfyH_C4YF-vX",
        "outputId": "b05a1132-e9a1-440b-9a25-9e6aa207ea8d"
      },
      "source": [
        "graph_df = graph_df[[\"duration\",\"Total UL (Bytes)\",'Total DL (Bytes)']]\n",
        "graph_df"
      ],
      "execution_count": null,
      "outputs": [
        {
          "output_type": "execute_result",
          "data": {
            "text/html": [
              "<div>\n",
              "<style scoped>\n",
              "    .dataframe tbody tr th:only-of-type {\n",
              "        vertical-align: middle;\n",
              "    }\n",
              "\n",
              "    .dataframe tbody tr th {\n",
              "        vertical-align: top;\n",
              "    }\n",
              "\n",
              "    .dataframe thead th {\n",
              "        text-align: right;\n",
              "    }\n",
              "</style>\n",
              "<table border=\"1\" class=\"dataframe\">\n",
              "  <thead>\n",
              "    <tr style=\"text-align: right;\">\n",
              "      <th></th>\n",
              "      <th>duration</th>\n",
              "      <th>Total UL (Bytes)</th>\n",
              "      <th>Total DL (Bytes)</th>\n",
              "    </tr>\n",
              "  </thead>\n",
              "  <tbody>\n",
              "    <tr>\n",
              "      <th>1970-01-01 00:00:00.000000000</th>\n",
              "      <td>1823653.0</td>\n",
              "      <td>36749741.0</td>\n",
              "      <td>308879636.0</td>\n",
              "    </tr>\n",
              "    <tr>\n",
              "      <th>1970-01-01 00:00:00.000000001</th>\n",
              "      <td>1365104.0</td>\n",
              "      <td>53800391.0</td>\n",
              "      <td>653384965.0</td>\n",
              "    </tr>\n",
              "    <tr>\n",
              "      <th>1970-01-01 00:00:00.000000002</th>\n",
              "      <td>1361762.0</td>\n",
              "      <td>27883638.0</td>\n",
              "      <td>279807335.0</td>\n",
              "    </tr>\n",
              "    <tr>\n",
              "      <th>1970-01-01 00:00:00.000000003</th>\n",
              "      <td>1321510.0</td>\n",
              "      <td>43324218.0</td>\n",
              "      <td>846028530.0</td>\n",
              "    </tr>\n",
              "    <tr>\n",
              "      <th>1970-01-01 00:00:00.000000004</th>\n",
              "      <td>1089009.0</td>\n",
              "      <td>38542814.0</td>\n",
              "      <td>569138589.0</td>\n",
              "    </tr>\n",
              "    <tr>\n",
              "      <th>...</th>\n",
              "      <td>...</td>\n",
              "      <td>...</td>\n",
              "      <td>...</td>\n",
              "    </tr>\n",
              "    <tr>\n",
              "      <th>1970-01-01 00:00:00.000149996</th>\n",
              "      <td>81231.0</td>\n",
              "      <td>57628851.0</td>\n",
              "      <td>574175259.0</td>\n",
              "    </tr>\n",
              "    <tr>\n",
              "      <th>1970-01-01 00:00:00.000149997</th>\n",
              "      <td>97971.0</td>\n",
              "      <td>39135081.0</td>\n",
              "      <td>666648844.0</td>\n",
              "    </tr>\n",
              "    <tr>\n",
              "      <th>1970-01-01 00:00:00.000149998</th>\n",
              "      <td>98249.0</td>\n",
              "      <td>34912224.0</td>\n",
              "      <td>592786405.0</td>\n",
              "    </tr>\n",
              "    <tr>\n",
              "      <th>1970-01-01 00:00:00.000149999</th>\n",
              "      <td>97911.0</td>\n",
              "      <td>29626096.0</td>\n",
              "      <td>371895920.0</td>\n",
              "    </tr>\n",
              "    <tr>\n",
              "      <th>1970-01-01 00:00:00.000150000</th>\n",
              "      <td>NaN</td>\n",
              "      <td>NaN</td>\n",
              "      <td>NaN</td>\n",
              "    </tr>\n",
              "  </tbody>\n",
              "</table>\n",
              "<p>150001 rows × 3 columns</p>\n",
              "</div>"
            ],
            "text/plain": [
              "                                duration  Total UL (Bytes)  Total DL (Bytes)\n",
              "1970-01-01 00:00:00.000000000  1823653.0  36749741.0        308879636.0     \n",
              "1970-01-01 00:00:00.000000001  1365104.0  53800391.0        653384965.0     \n",
              "1970-01-01 00:00:00.000000002  1361762.0  27883638.0        279807335.0     \n",
              "1970-01-01 00:00:00.000000003  1321510.0  43324218.0        846028530.0     \n",
              "1970-01-01 00:00:00.000000004  1089009.0  38542814.0        569138589.0     \n",
              "...                                  ...         ...                ...     \n",
              "1970-01-01 00:00:00.000149996  81231.0    57628851.0        574175259.0     \n",
              "1970-01-01 00:00:00.000149997  97971.0    39135081.0        666648844.0     \n",
              "1970-01-01 00:00:00.000149998  98249.0    34912224.0        592786405.0     \n",
              "1970-01-01 00:00:00.000149999  97911.0    29626096.0        371895920.0     \n",
              "1970-01-01 00:00:00.000150000 NaN        NaN               NaN              \n",
              "\n",
              "[150001 rows x 3 columns]"
            ]
          },
          "metadata": {
            "tags": []
          },
          "execution_count": 181
        }
      ]
    },
    {
      "cell_type": "code",
      "metadata": {
        "colab": {
          "base_uri": "https://localhost:8080/",
          "height": 48
        },
        "id": "3FrIvFdvC-dW",
        "outputId": "8b2f4b15-1404-40a2-a471-b2027849a28d"
      },
      "source": [
        "from sklearn.preprocessing import MinMaxScaler\n",
        "\n",
        "minmax_scaler = MinMaxScaler()\n",
        "\n",
        "# mix-max scale the data between 0 and 1\n",
        "def scaler(df):\n",
        "    scaled_data = minmax_scaler.fit_transform(df)\n",
        "\n",
        "    # plot both together to compare\n",
        "    # fig, ax = plt.subplots(1,2, figsize=(10, 6))\n",
        "    # sns.histplot(df[['duration',\"HTTP DL (Bytes)\",'HTTP UL (Bytes)']], ax=ax[0])\n",
        "    # ax[0].set_title(\"Original Data\")\n",
        "    # sns.histplot(scaled_data, ax=ax[1])\n",
        "    # ax[1].set_title(\"Scaled data\")\n",
        "    return scaled_data\n",
        "    \n",
        "scaled_data = scaler(graph_df)\n",
        "scaled_df = pd.DataFrame(scaled_data)\n",
        "scaled_df.columns = ['duration',\"HTTP DL (Bytes)\",'HTTP UL (Bytes)']"
      ],
      "execution_count": null,
      "outputs": [
        {
          "output_type": "execute_result",
          "data": {
            "text/html": [
              "<div>\n",
              "<style scoped>\n",
              "    .dataframe tbody tr th:only-of-type {\n",
              "        vertical-align: middle;\n",
              "    }\n",
              "\n",
              "    .dataframe tbody tr th {\n",
              "        vertical-align: top;\n",
              "    }\n",
              "\n",
              "    .dataframe thead th {\n",
              "        text-align: right;\n",
              "    }\n",
              "</style>\n",
              "<table border=\"1\" class=\"dataframe\">\n",
              "  <thead>\n",
              "    <tr style=\"text-align: right;\">\n",
              "      <th></th>\n",
              "      <th>duration</th>\n",
              "      <th>HTTP DL (Bytes)</th>\n",
              "      <th>HTTP UL (Bytes)</th>\n",
              "    </tr>\n",
              "  </thead>\n",
              "  <tbody>\n",
              "  </tbody>\n",
              "</table>\n",
              "</div>"
            ],
            "text/plain": [
              "Empty DataFrame\n",
              "Columns: [duration, HTTP DL (Bytes), HTTP UL (Bytes)]\n",
              "Index: []"
            ]
          },
          "metadata": {
            "tags": []
          },
          "execution_count": 204
        }
      ]
    },
    {
      "cell_type": "code",
      "metadata": {
        "colab": {
          "base_uri": "https://localhost:8080/"
        },
        "id": "qc_XLJb8F69-",
        "outputId": "9380ea5e-859d-453e-d777-8ef701cf4479"
      },
      "source": [
        "scaled_df = scaled_df.dropna()\n",
        "scaled_df['duration'].isnull().sum()"
      ],
      "execution_count": null,
      "outputs": [
        {
          "output_type": "execute_result",
          "data": {
            "text/plain": [
              "0"
            ]
          },
          "metadata": {
            "tags": []
          },
          "execution_count": 216
        }
      ]
    },
    {
      "cell_type": "code",
      "metadata": {
        "colab": {
          "base_uri": "https://localhost:8080/",
          "height": 294
        },
        "id": "CyTCrb_YK1fR",
        "outputId": "64594ea3-42ec-4919-8d42-d53ed44c464f"
      },
      "source": [
        "scaled_df.describe()"
      ],
      "execution_count": null,
      "outputs": [
        {
          "output_type": "execute_result",
          "data": {
            "text/html": [
              "<div>\n",
              "<style scoped>\n",
              "    .dataframe tbody tr th:only-of-type {\n",
              "        vertical-align: middle;\n",
              "    }\n",
              "\n",
              "    .dataframe tbody tr th {\n",
              "        vertical-align: top;\n",
              "    }\n",
              "\n",
              "    .dataframe thead th {\n",
              "        text-align: right;\n",
              "    }\n",
              "</style>\n",
              "<table border=\"1\" class=\"dataframe\">\n",
              "  <thead>\n",
              "    <tr style=\"text-align: right;\">\n",
              "      <th></th>\n",
              "      <th>duration</th>\n",
              "      <th>HTTP DL (Bytes)</th>\n",
              "      <th>HTTP UL (Bytes)</th>\n",
              "    </tr>\n",
              "  </thead>\n",
              "  <tbody>\n",
              "    <tr>\n",
              "      <th>count</th>\n",
              "      <td>150000.000000</td>\n",
              "      <td>150000.000000</td>\n",
              "      <td>150000.000000</td>\n",
              "    </tr>\n",
              "    <tr>\n",
              "      <th>mean</th>\n",
              "      <td>0.052622</td>\n",
              "      <td>0.506919</td>\n",
              "      <td>0.499555</td>\n",
              "    </tr>\n",
              "    <tr>\n",
              "      <th>std</th>\n",
              "      <td>0.043752</td>\n",
              "      <td>0.149427</td>\n",
              "      <td>0.272525</td>\n",
              "    </tr>\n",
              "    <tr>\n",
              "      <th>min</th>\n",
              "      <td>0.000000</td>\n",
              "      <td>0.000000</td>\n",
              "      <td>0.000000</td>\n",
              "    </tr>\n",
              "    <tr>\n",
              "      <th>25%</th>\n",
              "      <td>0.027156</td>\n",
              "      <td>0.402244</td>\n",
              "      <td>0.263427</td>\n",
              "    </tr>\n",
              "    <tr>\n",
              "      <th>50%</th>\n",
              "      <td>0.042791</td>\n",
              "      <td>0.507211</td>\n",
              "      <td>0.500892</td>\n",
              "    </tr>\n",
              "    <tr>\n",
              "      <th>75%</th>\n",
              "      <td>0.067643</td>\n",
              "      <td>0.611776</td>\n",
              "      <td>0.735154</td>\n",
              "    </tr>\n",
              "    <tr>\n",
              "      <th>max</th>\n",
              "      <td>1.000000</td>\n",
              "      <td>1.000000</td>\n",
              "      <td>1.000000</td>\n",
              "    </tr>\n",
              "  </tbody>\n",
              "</table>\n",
              "</div>"
            ],
            "text/plain": [
              "            duration  HTTP DL (Bytes)  HTTP UL (Bytes)\n",
              "count  150000.000000  150000.000000    150000.000000  \n",
              "mean   0.052622       0.506919         0.499555       \n",
              "std    0.043752       0.149427         0.272525       \n",
              "min    0.000000       0.000000         0.000000       \n",
              "25%    0.027156       0.402244         0.263427       \n",
              "50%    0.042791       0.507211         0.500892       \n",
              "75%    0.067643       0.611776         0.735154       \n",
              "max    1.000000       1.000000         1.000000       "
            ]
          },
          "metadata": {
            "tags": []
          },
          "execution_count": 218
        }
      ]
    },
    {
      "cell_type": "code",
      "metadata": {
        "colab": {
          "base_uri": "https://localhost:8080/",
          "height": 296
        },
        "id": "tuNOHCufHsxC",
        "outputId": "fca5c3bc-c05f-452c-9c07-94998a0376e6"
      },
      "source": [
        "sns.histplot(scaled_df['HTTP DL (Bytes)'])"
      ],
      "execution_count": null,
      "outputs": [
        {
          "output_type": "execute_result",
          "data": {
            "text/plain": [
              "<matplotlib.axes._subplots.AxesSubplot at 0x7f2a03c0f650>"
            ]
          },
          "metadata": {
            "tags": []
          },
          "execution_count": 219
        },
        {
          "output_type": "display_data",
          "data": {
            "image/png": "[encoded data removed]",
            "text/plain": [
              "<Figure size 432x288 with 1 Axes>"
            ]
          },
          "metadata": {
            "tags": [],
            "needs_background": "light"
          }
        }
      ]
    },
    {
      "cell_type": "code",
      "metadata": {
        "colab": {
          "base_uri": "https://localhost:8080/",
          "height": 296
        },
        "id": "1xtdV2DzLORy",
        "outputId": "3d6c220c-b6a4-458c-c086-aecf96760f14"
      },
      "source": [
        "sns.histplot(scaled_df['HTTP UL (Bytes)'])"
      ],
      "execution_count": null,
      "outputs": [
        {
          "output_type": "execute_result",
          "data": {
            "text/plain": [
              "<matplotlib.axes._subplots.AxesSubplot at 0x7f29dfe4fb50>"
            ]
          },
          "metadata": {
            "tags": []
          },
          "execution_count": 220
        },
        {
          "output_type": "display_data",
          "data": {
            "image/png": "[encoded data removed]",
            "text/plain": [
              "<Figure size 432x288 with 1 Axes>"
            ]
          },
          "metadata": {
            "tags": [],
            "needs_background": "light"
          }
        }
      ]
    },
    {
      "cell_type": "code",
      "metadata": {
        "colab": {
          "base_uri": "https://localhost:8080/",
          "height": 278
        },
        "id": "2VAofUSLNqfS",
        "outputId": "d8b02fb4-7854-4376-dd3c-1c536659ffef"
      },
      "source": [
        "for social_media in social_medias:\n",
        "  sns.histplot(df[social_media])"
      ],
      "execution_count": null,
      "outputs": [
        {
          "output_type": "display_data",
          "data": {
            "image/png": "[encoded data removed]",
            "text/plain": [
              "<Figure size 432x288 with 1 Axes>"
            ]
          },
          "metadata": {
            "tags": [],
            "needs_background": "light"
          }
        }
      ]
    },
    {
      "cell_type": "code",
      "metadata": {
        "colab": {
          "base_uri": "https://localhost:8080/",
          "height": 298
        },
        "id": "fgsRGIfFORNQ",
        "outputId": "9eb0e79a-2614-4cad-a8ba-46ce6d4c53ba"
      },
      "source": [
        "sns.histplot(df['Google DL (Bytes)'])"
      ],
      "execution_count": null,
      "outputs": [
        {
          "output_type": "execute_result",
          "data": {
            "text/plain": [
              "<matplotlib.axes._subplots.AxesSubplot at 0x7f2a0df58350>"
            ]
          },
          "metadata": {
            "tags": []
          },
          "execution_count": 227
        },
        {
          "output_type": "display_data",
          "data": {
            "image/png": "[encoded data removed]",
            "text/plain": [
              "<Figure size 432x288 with 1 Axes>"
            ]
          },
          "metadata": {
            "tags": [],
            "needs_background": "light"
          }
        }
      ]
    },
    {
      "cell_type": "code",
      "metadata": {
        "colab": {
          "base_uri": "https://localhost:8080/",
          "height": 132
        },
        "id": "0ljvm41pIyMw",
        "outputId": "f1aaa608-8f7e-4882-a3e0-0400df862bb2"
      },
      "source": [
        "scaled_df = df[Google DL (Bytes)]"
      ],
      "execution_count": null,
      "outputs": [
        {
          "output_type": "error",
          "ename": "SyntaxError",
          "evalue": "ignored",
          "traceback": [
            "\u001b[0;36m  File \u001b[0;32m\"<ipython-input-226-160b1a657fc9>\"\u001b[0;36m, line \u001b[0;32m1\u001b[0m\n\u001b[0;31m    scaled_df = df[Google DL (Bytes)]\u001b[0m\n\u001b[0m                           ^\u001b[0m\n\u001b[0;31mSyntaxError\u001b[0m\u001b[0;31m:\u001b[0m invalid syntax\n"
          ]
        }
      ]
    },
    {
      "cell_type": "code",
      "metadata": {
        "colab": {
          "base_uri": "https://localhost:8080/"
        },
        "id": "UBKZMtBFKD61",
        "outputId": "8bb93b03-37c5-4f87-a97c-672d1dde68ef"
      },
      "source": [
        "social_medias"
      ],
      "execution_count": null,
      "outputs": [
        {
          "output_type": "execute_result",
          "data": {
            "text/plain": [
              "['Social Media DL (Bytes)',\n",
              " 'Social Media UL (Bytes)',\n",
              " 'Google DL (Bytes)',\n",
              " 'Google UL (Bytes)',\n",
              " 'Email DL (Bytes)',\n",
              " 'Email UL (Bytes)',\n",
              " 'Youtube DL (Bytes)',\n",
              " 'Youtube UL (Bytes)',\n",
              " 'Netflix DL (Bytes)',\n",
              " 'Netflix UL (Bytes)',\n",
              " 'Gaming DL (Bytes)',\n",
              " 'Gaming UL (Bytes)',\n",
              " 'Other DL (Bytes)',\n",
              " 'Other UL (Bytes)',\n",
              " 'Total UL (Bytes)',\n",
              " 'Total DL (Bytes)']"
            ]
          },
          "metadata": {
            "tags": []
          },
          "execution_count": 223
        }
      ]
    },
    {
      "cell_type": "code",
      "metadata": {
        "colab": {
          "base_uri": "https://localhost:8080/",
          "height": 414
        },
        "id": "OluhPxX9N5TT",
        "outputId": "a9a8054f-a904-4829-b589-58bf4405d877"
      },
      "source": [
        "scaled_df"
      ],
      "execution_count": null,
      "outputs": [
        {
          "output_type": "execute_result",
          "data": {
            "text/html": [
              "<div>\n",
              "<style scoped>\n",
              "    .dataframe tbody tr th:only-of-type {\n",
              "        vertical-align: middle;\n",
              "    }\n",
              "\n",
              "    .dataframe tbody tr th {\n",
              "        vertical-align: top;\n",
              "    }\n",
              "\n",
              "    .dataframe thead th {\n",
              "        text-align: right;\n",
              "    }\n",
              "</style>\n",
              "<table border=\"1\" class=\"dataframe\">\n",
              "  <thead>\n",
              "    <tr style=\"text-align: right;\">\n",
              "      <th></th>\n",
              "      <th>duration</th>\n",
              "      <th>HTTP DL (Bytes)</th>\n",
              "      <th>HTTP UL (Bytes)</th>\n",
              "    </tr>\n",
              "  </thead>\n",
              "  <tbody>\n",
              "    <tr>\n",
              "      <th>0</th>\n",
              "      <td>0.980734</td>\n",
              "      <td>0.448991</td>\n",
              "      <td>0.336846</td>\n",
              "    </tr>\n",
              "    <tr>\n",
              "      <th>1</th>\n",
              "      <td>0.733163</td>\n",
              "      <td>0.674934</td>\n",
              "      <td>0.721401</td>\n",
              "    </tr>\n",
              "    <tr>\n",
              "      <th>2</th>\n",
              "      <td>0.731359</td>\n",
              "      <td>0.331504</td>\n",
              "      <td>0.304394</td>\n",
              "    </tr>\n",
              "    <tr>\n",
              "      <th>3</th>\n",
              "      <td>0.709627</td>\n",
              "      <td>0.536111</td>\n",
              "      <td>0.936439</td>\n",
              "    </tr>\n",
              "    <tr>\n",
              "      <th>4</th>\n",
              "      <td>0.584100</td>\n",
              "      <td>0.472752</td>\n",
              "      <td>0.627361</td>\n",
              "    </tr>\n",
              "    <tr>\n",
              "      <th>...</th>\n",
              "      <td>...</td>\n",
              "      <td>...</td>\n",
              "      <td>...</td>\n",
              "    </tr>\n",
              "    <tr>\n",
              "      <th>149995</th>\n",
              "      <td>0.028315</td>\n",
              "      <td>0.674205</td>\n",
              "      <td>0.906287</td>\n",
              "    </tr>\n",
              "    <tr>\n",
              "      <th>149996</th>\n",
              "      <td>0.040000</td>\n",
              "      <td>0.725666</td>\n",
              "      <td>0.632983</td>\n",
              "    </tr>\n",
              "    <tr>\n",
              "      <th>149997</th>\n",
              "      <td>0.049038</td>\n",
              "      <td>0.480600</td>\n",
              "      <td>0.736207</td>\n",
              "    </tr>\n",
              "    <tr>\n",
              "      <th>149998</th>\n",
              "      <td>0.049188</td>\n",
              "      <td>0.424642</td>\n",
              "      <td>0.653758</td>\n",
              "    </tr>\n",
              "    <tr>\n",
              "      <th>149999</th>\n",
              "      <td>0.049006</td>\n",
              "      <td>0.354594</td>\n",
              "      <td>0.407188</td>\n",
              "    </tr>\n",
              "  </tbody>\n",
              "</table>\n",
              "<p>150000 rows × 3 columns</p>\n",
              "</div>"
            ],
            "text/plain": [
              "        duration  HTTP DL (Bytes)  HTTP UL (Bytes)\n",
              "0       0.980734  0.448991         0.336846       \n",
              "1       0.733163  0.674934         0.721401       \n",
              "2       0.731359  0.331504         0.304394       \n",
              "3       0.709627  0.536111         0.936439       \n",
              "4       0.584100  0.472752         0.627361       \n",
              "...          ...       ...              ...       \n",
              "149995  0.028315  0.674205         0.906287       \n",
              "149996  0.040000  0.725666         0.632983       \n",
              "149997  0.049038  0.480600         0.736207       \n",
              "149998  0.049188  0.424642         0.653758       \n",
              "149999  0.049006  0.354594         0.407188       \n",
              "\n",
              "[150000 rows x 3 columns]"
            ]
          },
          "metadata": {
            "tags": []
          },
          "execution_count": 229
        }
      ]
    },
    {
      "cell_type": "code",
      "metadata": {
        "colab": {
          "base_uri": "https://localhost:8080/",
          "height": 634
        },
        "id": "qTdbhRvJPh38",
        "outputId": "a46189a0-b9d6-4069-de7c-27d0de3db64f"
      },
      "source": [
        "df[social_medias]"
      ],
      "execution_count": null,
      "outputs": [
        {
          "output_type": "execute_result",
          "data": {
            "text/html": [
              "<div>\n",
              "<style scoped>\n",
              "    .dataframe tbody tr th:only-of-type {\n",
              "        vertical-align: middle;\n",
              "    }\n",
              "\n",
              "    .dataframe tbody tr th {\n",
              "        vertical-align: top;\n",
              "    }\n",
              "\n",
              "    .dataframe thead th {\n",
              "        text-align: right;\n",
              "    }\n",
              "</style>\n",
              "<table border=\"1\" class=\"dataframe\">\n",
              "  <thead>\n",
              "    <tr style=\"text-align: right;\">\n",
              "      <th></th>\n",
              "      <th>Social Media DL (Bytes)</th>\n",
              "      <th>Social Media UL (Bytes)</th>\n",
              "      <th>Google DL (Bytes)</th>\n",
              "      <th>Google UL (Bytes)</th>\n",
              "      <th>Email DL (Bytes)</th>\n",
              "      <th>Email UL (Bytes)</th>\n",
              "      <th>Youtube DL (Bytes)</th>\n",
              "      <th>Youtube UL (Bytes)</th>\n",
              "      <th>Netflix DL (Bytes)</th>\n",
              "      <th>Netflix UL (Bytes)</th>\n",
              "      <th>Gaming DL (Bytes)</th>\n",
              "      <th>Gaming UL (Bytes)</th>\n",
              "      <th>Other DL (Bytes)</th>\n",
              "      <th>Other UL (Bytes)</th>\n",
              "      <th>Total UL (Bytes)</th>\n",
              "      <th>Total DL (Bytes)</th>\n",
              "    </tr>\n",
              "  </thead>\n",
              "  <tbody>\n",
              "    <tr>\n",
              "      <th>1970-01-01 00:00:00.000000000</th>\n",
              "      <td>1.545765e+06</td>\n",
              "      <td>24420.00000</td>\n",
              "      <td>1.634479e+06</td>\n",
              "      <td>1.271433e+06</td>\n",
              "      <td>3.563542e+06</td>\n",
              "      <td>137762.00000</td>\n",
              "      <td>1.585461e+07</td>\n",
              "      <td>2.501332e+06</td>\n",
              "      <td>8.198936e+06</td>\n",
              "      <td>9.656251e+06</td>\n",
              "      <td>2.780823e+08</td>\n",
              "      <td>1.434415e+07</td>\n",
              "      <td>1.717444e+08</td>\n",
              "      <td>8.814393e+06</td>\n",
              "      <td>36749741.0</td>\n",
              "      <td>308879636.0</td>\n",
              "    </tr>\n",
              "    <tr>\n",
              "      <th>1970-01-01 00:00:00.000000001</th>\n",
              "      <td>1.926113e+06</td>\n",
              "      <td>7165.00000</td>\n",
              "      <td>3.493924e+06</td>\n",
              "      <td>9.201720e+05</td>\n",
              "      <td>6.290460e+05</td>\n",
              "      <td>308339.00000</td>\n",
              "      <td>2.024740e+07</td>\n",
              "      <td>1.911173e+07</td>\n",
              "      <td>1.833841e+07</td>\n",
              "      <td>1.722713e+07</td>\n",
              "      <td>6.087501e+08</td>\n",
              "      <td>1.170709e+06</td>\n",
              "      <td>5.269042e+08</td>\n",
              "      <td>1.505514e+07</td>\n",
              "      <td>53800391.0</td>\n",
              "      <td>653384965.0</td>\n",
              "    </tr>\n",
              "    <tr>\n",
              "      <th>1970-01-01 00:00:00.000000002</th>\n",
              "      <td>1.684053e+06</td>\n",
              "      <td>42224.00000</td>\n",
              "      <td>8.535055e+06</td>\n",
              "      <td>1.694064e+06</td>\n",
              "      <td>2.690151e+06</td>\n",
              "      <td>672973.00000</td>\n",
              "      <td>1.972566e+07</td>\n",
              "      <td>1.469958e+07</td>\n",
              "      <td>1.758779e+07</td>\n",
              "      <td>6.163408e+06</td>\n",
              "      <td>2.295846e+08</td>\n",
              "      <td>3.956300e+05</td>\n",
              "      <td>4.106926e+08</td>\n",
              "      <td>4.215763e+06</td>\n",
              "      <td>27883638.0</td>\n",
              "      <td>279807335.0</td>\n",
              "    </tr>\n",
              "    <tr>\n",
              "      <th>1970-01-01 00:00:00.000000003</th>\n",
              "      <td>6.441210e+05</td>\n",
              "      <td>13372.00000</td>\n",
              "      <td>9.023734e+06</td>\n",
              "      <td>2.788027e+06</td>\n",
              "      <td>1.439754e+06</td>\n",
              "      <td>631229.00000</td>\n",
              "      <td>2.138812e+07</td>\n",
              "      <td>1.514664e+07</td>\n",
              "      <td>1.399465e+07</td>\n",
              "      <td>1.097942e+06</td>\n",
              "      <td>7.995382e+08</td>\n",
              "      <td>1.084972e+07</td>\n",
              "      <td>7.490399e+08</td>\n",
              "      <td>1.279728e+07</td>\n",
              "      <td>43324218.0</td>\n",
              "      <td>846028530.0</td>\n",
              "    </tr>\n",
              "    <tr>\n",
              "      <th>1970-01-01 00:00:00.000000004</th>\n",
              "      <td>8.626000e+05</td>\n",
              "      <td>50188.00000</td>\n",
              "      <td>6.248284e+06</td>\n",
              "      <td>1.500559e+06</td>\n",
              "      <td>1.936496e+06</td>\n",
              "      <td>173853.00000</td>\n",
              "      <td>1.525938e+07</td>\n",
              "      <td>1.896287e+07</td>\n",
              "      <td>1.712458e+07</td>\n",
              "      <td>4.152180e+05</td>\n",
              "      <td>5.277072e+08</td>\n",
              "      <td>3.529801e+06</td>\n",
              "      <td>5.507095e+08</td>\n",
              "      <td>1.391032e+07</td>\n",
              "      <td>38542814.0</td>\n",
              "      <td>569138589.0</td>\n",
              "    </tr>\n",
              "    <tr>\n",
              "      <th>...</th>\n",
              "      <td>...</td>\n",
              "      <td>...</td>\n",
              "      <td>...</td>\n",
              "      <td>...</td>\n",
              "      <td>...</td>\n",
              "      <td>...</td>\n",
              "      <td>...</td>\n",
              "      <td>...</td>\n",
              "      <td>...</td>\n",
              "      <td>...</td>\n",
              "      <td>...</td>\n",
              "      <td>...</td>\n",
              "      <td>...</td>\n",
              "      <td>...</td>\n",
              "      <td>...</td>\n",
              "      <td>...</td>\n",
              "    </tr>\n",
              "    <tr>\n",
              "      <th>1970-01-01 00:00:00.000149996</th>\n",
              "      <td>3.464974e+06</td>\n",
              "      <td>52091.00000</td>\n",
              "      <td>9.967603e+06</td>\n",
              "      <td>2.817311e+06</td>\n",
              "      <td>5.763900e+04</td>\n",
              "      <td>633237.00000</td>\n",
              "      <td>1.619167e+07</td>\n",
              "      <td>1.176343e+07</td>\n",
              "      <td>1.788370e+07</td>\n",
              "      <td>1.967816e+07</td>\n",
              "      <td>5.266097e+08</td>\n",
              "      <td>9.197207e+06</td>\n",
              "      <td>3.264510e+06</td>\n",
              "      <td>1.348742e+07</td>\n",
              "      <td>57628851.0</td>\n",
              "      <td>574175259.0</td>\n",
              "    </tr>\n",
              "    <tr>\n",
              "      <th>1970-01-01 00:00:00.000149997</th>\n",
              "      <td>2.344568e+06</td>\n",
              "      <td>7613.00000</td>\n",
              "      <td>2.229420e+06</td>\n",
              "      <td>2.185941e+06</td>\n",
              "      <td>1.954414e+06</td>\n",
              "      <td>167304.00000</td>\n",
              "      <td>1.387723e+07</td>\n",
              "      <td>8.288284e+06</td>\n",
              "      <td>1.935015e+07</td>\n",
              "      <td>2.129315e+07</td>\n",
              "      <td>6.268931e+08</td>\n",
              "      <td>4.735033e+06</td>\n",
              "      <td>7.121804e+08</td>\n",
              "      <td>2.457758e+06</td>\n",
              "      <td>39135081.0</td>\n",
              "      <td>666648844.0</td>\n",
              "    </tr>\n",
              "    <tr>\n",
              "      <th>1970-01-01 00:00:00.000149998</th>\n",
              "      <td>1.245845e+06</td>\n",
              "      <td>14394.00000</td>\n",
              "      <td>3.850890e+06</td>\n",
              "      <td>2.734579e+06</td>\n",
              "      <td>1.525734e+06</td>\n",
              "      <td>532543.00000</td>\n",
              "      <td>2.266051e+07</td>\n",
              "      <td>1.855903e+06</td>\n",
              "      <td>9.963942e+06</td>\n",
              "      <td>5.065760e+06</td>\n",
              "      <td>5.535395e+08</td>\n",
              "      <td>1.339432e+07</td>\n",
              "      <td>1.211009e+08</td>\n",
              "      <td>1.131473e+07</td>\n",
              "      <td>34912224.0</td>\n",
              "      <td>592786405.0</td>\n",
              "    </tr>\n",
              "    <tr>\n",
              "      <th>1970-01-01 00:00:00.000149999</th>\n",
              "      <td>8.015470e+05</td>\n",
              "      <td>21562.00000</td>\n",
              "      <td>4.189773e+06</td>\n",
              "      <td>3.567494e+06</td>\n",
              "      <td>2.228270e+06</td>\n",
              "      <td>622644.00000</td>\n",
              "      <td>8.817106e+06</td>\n",
              "      <td>8.305402e+06</td>\n",
              "      <td>3.322253e+06</td>\n",
              "      <td>1.317259e+07</td>\n",
              "      <td>3.525370e+08</td>\n",
              "      <td>2.529475e+06</td>\n",
              "      <td>8.147131e+08</td>\n",
              "      <td>1.406930e+06</td>\n",
              "      <td>29626096.0</td>\n",
              "      <td>371895920.0</td>\n",
              "    </tr>\n",
              "    <tr>\n",
              "      <th>1970-01-01 00:00:00.000150000</th>\n",
              "      <td>1.795322e+06</td>\n",
              "      <td>32928.43438</td>\n",
              "      <td>5.750753e+06</td>\n",
              "      <td>2.056542e+06</td>\n",
              "      <td>1.791729e+06</td>\n",
              "      <td>467373.44194</td>\n",
              "      <td>1.163407e+07</td>\n",
              "      <td>1.100941e+07</td>\n",
              "      <td>1.162685e+07</td>\n",
              "      <td>1.100175e+07</td>\n",
              "      <td>4.220447e+08</td>\n",
              "      <td>8.288398e+06</td>\n",
              "      <td>4.211005e+08</td>\n",
              "      <td>8.264799e+06</td>\n",
              "      <td>NaN</td>\n",
              "      <td>NaN</td>\n",
              "    </tr>\n",
              "  </tbody>\n",
              "</table>\n",
              "<p>150001 rows × 16 columns</p>\n",
              "</div>"
            ],
            "text/plain": [
              "                               Social Media DL (Bytes)  ...  Total DL (Bytes)\n",
              "1970-01-01 00:00:00.000000000  1.545765e+06             ...  308879636.0     \n",
              "1970-01-01 00:00:00.000000001  1.926113e+06             ...  653384965.0     \n",
              "1970-01-01 00:00:00.000000002  1.684053e+06             ...  279807335.0     \n",
              "1970-01-01 00:00:00.000000003  6.441210e+05             ...  846028530.0     \n",
              "1970-01-01 00:00:00.000000004  8.626000e+05             ...  569138589.0     \n",
              "...                                     ...             ...          ...     \n",
              "1970-01-01 00:00:00.000149996  3.464974e+06             ...  574175259.0     \n",
              "1970-01-01 00:00:00.000149997  2.344568e+06             ...  666648844.0     \n",
              "1970-01-01 00:00:00.000149998  1.245845e+06             ...  592786405.0     \n",
              "1970-01-01 00:00:00.000149999  8.015470e+05             ...  371895920.0     \n",
              "1970-01-01 00:00:00.000150000  1.795322e+06             ... NaN              \n",
              "\n",
              "[150001 rows x 16 columns]"
            ]
          },
          "metadata": {
            "tags": []
          },
          "execution_count": 234
        }
      ]
    },
    {
      "cell_type": "code",
      "metadata": {
        "id": "C1aSwl3eXjpd"
      },
      "source": [
        "# Create a function that we can re-use\n",
        "def show_distribution(var_data):\n",
        "    from matplotlib import pyplot as plt\n",
        "\n",
        "    # Get statistics\n",
        "    min_val = var_data.min()\n",
        "    max_val = var_data.max()\n",
        "    mean_val = var_data.mean()\n",
        "    med_val = var_data.median()\n",
        "    mod_val = var_data.mode()[0]\n",
        "\n",
        "    print('Minimum:{:.2f}\\nMean:{:.2f}\\nMedian:{:.2f}\\nMode:{:.2f}\\nMaximum:{:.2f}\\n'.format(min_val,\n",
        "                                                                                            mean_val,\n",
        "                                                                                            med_val,\n",
        "                                                                                            mod_val,\n",
        "                                                                                            max_val))\n",
        "\n",
        "    # Create a figure for 2 subplots (2 rows, 1 column)\n",
        "    fig, ax = plt.subplots(2, 1, figsize = (10,4))\n",
        "\n",
        "    # Plot the histogram   \n",
        "    ax[0].hist(var_data)\n",
        "    ax[0].set_ylabel('Frequency')\n",
        "\n",
        "    # Add lines for the mean, median, and mode\n",
        "    ax[0].axvline(x=min_val, color = 'gray', linestyle='dashed', linewidth = 2)\n",
        "    ax[0].axvline(x=mean_val, color = 'cyan', linestyle='dashed', linewidth = 2)\n",
        "    ax[0].axvline(x=med_val, color = 'red', linestyle='dashed', linewidth = 2)\n",
        "    ax[0].axvline(x=mod_val, color = 'yellow', linestyle='dashed', linewidth = 2)\n",
        "    ax[0].axvline(x=max_val, color = 'gray', linestyle='dashed', linewidth = 2)\n",
        "\n",
        "    # Plot the boxplot   \n",
        "    ax[1].boxplot(var_data, vert=False)\n",
        "    ax[1].set_xlabel('Value')\n",
        "\n",
        "    # Add a title to the Figure\n",
        "    fig.suptitle(var_data.name)\n",
        "\n",
        "    # Show the figure\n",
        "    fig.show()"
      ],
      "execution_count": null,
      "outputs": []
    },
    {
      "cell_type": "code",
      "metadata": {
        "colab": {
          "base_uri": "https://localhost:8080/"
        },
        "id": "Yk3jOKdIZWlI",
        "outputId": "ce2fee01-7a35-48ce-f345-b1057eee9770"
      },
      "source": [
        "social_medias"
      ],
      "execution_count": null,
      "outputs": [
        {
          "output_type": "execute_result",
          "data": {
            "text/plain": [
              "['Social Media DL (Bytes)',\n",
              " 'Social Media UL (Bytes)',\n",
              " 'Google DL (Bytes)',\n",
              " 'Google UL (Bytes)',\n",
              " 'Email DL (Bytes)',\n",
              " 'Email UL (Bytes)',\n",
              " 'Youtube DL (Bytes)',\n",
              " 'Youtube UL (Bytes)',\n",
              " 'Netflix DL (Bytes)',\n",
              " 'Netflix UL (Bytes)',\n",
              " 'Gaming DL (Bytes)',\n",
              " 'Gaming UL (Bytes)',\n",
              " 'Other DL (Bytes)',\n",
              " 'Other UL (Bytes)',\n",
              " 'Total UL (Bytes)',\n",
              " 'Total DL (Bytes)']"
            ]
          },
          "metadata": {
            "tags": []
          },
          "execution_count": 265
        }
      ]
    },
    {
      "cell_type": "code",
      "metadata": {
        "colab": {
          "base_uri": "https://localhost:8080/",
          "height": 1000
        },
        "id": "B2lZyyccZOIb",
        "outputId": "9c47dc6b-afc6-4f1b-9b8d-ddbe48c15b2d"
      },
      "source": [
        "for media in social_medias:\n",
        "  show_distribution(df[media])"
      ],
      "execution_count": null,
      "outputs": [
        {
          "output_type": "stream",
          "text": [
            "Minimum:12.00\n",
            "Mean:1795321.77\n",
            "Median:1794369.00\n",
            "Mode:152013.00\n",
            "Maximum:3586064.00\n",
            "\n",
            "Minimum:0.00\n",
            "Mean:32928.43\n",
            "Median:32920.00\n",
            "Mode:30810.00\n",
            "Maximum:65870.00\n",
            "\n",
            "Minimum:207.00\n",
            "Mean:5750752.62\n",
            "Median:5765829.00\n",
            "Mode:3991481.00\n",
            "Maximum:11462832.00\n",
            "\n",
            "Minimum:3.00\n",
            "Mean:2056541.93\n",
            "Median:2054573.00\n",
            "Mode:3426526.00\n",
            "Maximum:4121357.00\n",
            "\n",
            "Minimum:14.00\n",
            "Mean:1791728.87\n",
            "Median:1793505.00\n",
            "Mode:1829513.00\n",
            "Maximum:3586146.00\n",
            "\n",
            "Minimum:2.00\n",
            "Mean:467373.44\n",
            "Median:466250.00\n",
            "Mode:53137.00\n",
            "Maximum:936418.00\n",
            "\n",
            "Minimum:53.00\n",
            "Mean:11634072.50\n",
            "Median:11616019.00\n",
            "Mode:18869169.00\n",
            "Maximum:23259098.00\n",
            "\n",
            "Minimum:105.00\n",
            "Mean:11009410.13\n",
            "Median:11013447.00\n",
            "Mode:3398443.00\n",
            "Maximum:22011962.00\n",
            "\n",
            "Minimum:42.00\n",
            "Mean:11626851.72\n",
            "Median:11642217.00\n",
            "Mode:2097111.00\n",
            "Maximum:23259189.00\n",
            "\n",
            "Minimum:35.00\n",
            "Mean:11001754.82\n",
            "Median:10996384.00\n",
            "Mode:1751610.00\n",
            "Maximum:22011955.00\n",
            "\n",
            "Minimum:2516.00\n",
            "Mean:422044702.60\n",
            "Median:423408104.00\n",
            "Mode:88731721.00\n",
            "Maximum:843441889.00\n",
            "\n",
            "Minimum:59.00\n",
            "Mean:8288398.11\n",
            "Median:8291208.00\n",
            "Mode:15304673.00\n",
            "Maximum:16558794.00\n",
            "\n",
            "Minimum:3290.00\n",
            "Mean:421100544.19\n",
            "Median:421803006.00\n",
            "Mode:28616268.00\n",
            "Maximum:843442489.00\n",
            "\n",
            "Minimum:148.00\n",
            "Mean:8264799.42\n",
            "Median:8267071.00\n",
            "Mode:4514572.00\n",
            "Maximum:16558816.00\n",
            "\n",
            "Minimum:2866892.00\n",
            "Mean:41121206.29\n",
            "Median:41143312.00\n",
            "Mode:19362459.00\n",
            "Maximum:78331311.00\n",
            "\n",
            "Minimum:7114041.00\n",
            "Mean:454643430.08\n",
            "Median:455841077.50\n",
            "Mode:74126119.00\n",
            "Maximum:902969616.00\n",
            "\n"
          ],
          "name": "stdout"
        },
        {
          "output_type": "display_data",
          "data": {
            "image/png": "[encoded data removed]",
            "text/plain": [
              "<Figure size 720x288 with 2 Axes>"
            ]
          },
          "metadata": {
            "tags": [],
            "needs_background": "light"
          }
        },
        {
          "output_type": "display_data",
          "data": {
            "image/png": "[encoded data removed]",
            "text/plain": [
              "<Figure size 720x288 with 2 Axes>"
            ]
          },
          "metadata": {
            "tags": [],
            "needs_background": "light"
          }
        },
        {
          "output_type": "display_data",
          "data": {
            "image/png": "[encoded data removed]",
            "text/plain": [
              "<Figure size 720x288 with 2 Axes>"
            ]
          },
          "metadata": {
            "tags": [],
            "needs_background": "light"
          }
        },
        {
          "output_type": "display_data",
          "data": {
            "image/png": "[encoded data removed]",
            "text/plain": [
              "<Figure size 720x288 with 2 Axes>"
            ]
          },
          "metadata": {
            "tags": [],
            "needs_background": "light"
          }
        },
        {
          "output_type": "display_data",
          "data": {
            "image/png": "[encoded data removed]",
            "text/plain": [
              "<Figure size 720x288 with 2 Axes>"
            ]
          },
          "metadata": {
            "tags": [],
            "needs_background": "light"
          }
        },
        {
          "output_type": "display_data",
          "data": {
            "image/png": "[encoded data removed]",
            "text/plain": [
              "<Figure size 720x288 with 2 Axes>"
            ]
          },
          "metadata": {
            "tags": [],
            "needs_background": "light"
          }
        },
        {
          "output_type": "display_data",
          "data": {
            "image/png": "[encoded data removed]",
            "text/plain": [
              "<Figure size 720x288 with 2 Axes>"
            ]
          },
          "metadata": {
            "tags": [],
            "needs_background": "light"
          }
        },
        {
          "output_type": "display_data",
          "data": {
            "image/png": "[encoded data removed]",
            "text/plain": [
              "<Figure size 720x288 with 2 Axes>"
            ]
          },
          "metadata": {
            "tags": [],
            "needs_background": "light"
          }
        },
        {
          "output_type": "display_data",
          "data": {
            "image/png": "[encoded data removed]",
            "text/plain": [
              "<Figure size 720x288 with 2 Axes>"
            ]
          },
          "metadata": {
            "tags": [],
            "needs_background": "light"
          }
        },
        {
          "output_type": "display_data",
          "data": {
            "image/png": "[encoded data removed]",
            "text/plain": [
              "<Figure size 720x288 with 2 Axes>"
            ]
          },
          "metadata": {
            "tags": [],
            "needs_background": "light"
          }
        },
        {
          "output_type": "display_data",
          "data": {
            "image/png": "[encoded data removed]",
            "text/plain": [
              "<Figure size 720x288 with 2 Axes>"
            ]
          },
          "metadata": {
            "tags": [],
            "needs_background": "light"
          }
        },
        {
          "output_type": "display_data",
          "data": {
            "image/png": "[encoded data removed]",
            "text/plain": [
              "<Figure size 720x288 with 2 Axes>"
            ]
          },
          "metadata": {
            "tags": [],
            "needs_background": "light"
          }
        },
        {
          "output_type": "display_data",
          "data": {
            "image/png": "[encoded data removed]",
            "text/plain": [
              "<Figure size 720x288 with 2 Axes>"
            ]
          },
          "metadata": {
            "tags": [],
            "needs_background": "light"
          }
        },
        {
          "output_type": "display_data",
          "data": {
            "image/png": "[encoded data removed]",
            "text/plain": [
              "<Figure size 720x288 with 2 Axes>"
            ]
          },
          "metadata": {
            "tags": [],
            "needs_background": "light"
          }
        },
        {
          "output_type": "display_data",
          "data": {
            "image/png": "[encoded data removed]",
            "text/plain": [
              "<Figure size 720x288 with 2 Axes>"
            ]
          },
          "metadata": {
            "tags": [],
            "needs_background": "light"
          }
        },
        {
          "output_type": "display_data",
          "data": {
            "image/png": "[encoded data removed]",
            "text/plain": [
              "<Figure size 720x288 with 2 Axes>"
            ]
          },
          "metadata": {
            "tags": [],
            "needs_background": "light"
          }
        }
      ]
    },
    {
      "cell_type": "markdown",
      "metadata": {
        "id": "8D0lJHIUZA2E"
      },
      "source": [
        "### Data consumption"
      ]
    },
    {
      "cell_type": "code",
      "metadata": {
        "colab": {
          "base_uri": "https://localhost:8080/",
          "height": 275
        },
        "id": "u-L4QRWRTm-9",
        "outputId": "3dcd3e29-77d4-431e-df54-4853497b2246"
      },
      "source": [
        "g = sns.barplot(data=df[social_medias])"
      ],
      "execution_count": null,
      "outputs": [
        {
          "output_type": "display_data",
          "data": {
            "image/png": "[encoded data removed]",
            "text/plain": [
              "<Figure size 432x288 with 1 Axes>"
            ]
          },
          "metadata": {
            "tags": [],
            "needs_background": "light"
          }
        }
      ]
    },
    {
      "cell_type": "code",
      "metadata": {
        "colab": {
          "base_uri": "https://localhost:8080/",
          "height": 384
        },
        "id": "5fWP8VO6UJyl",
        "outputId": "7f45af7b-7c53-45a2-e930-428f32a1a909"
      },
      "source": [
        "import matplotlib.pyplot as plt\n",
        "g = sns.barplot(data=df[social_medias])\n",
        "g.set_xticklabels(labels=social_medias,rotation=90)\n",
        "plt.show()"
      ],
      "execution_count": null,
      "outputs": [
        {
          "output_type": "display_data",
          "data": {
            "image/png": "[encoded data removed]",
            "text/plain": [
              "<Figure size 432x288 with 1 Axes>"
            ]
          },
          "metadata": {
            "tags": [],
            "needs_background": "light"
          }
        }
      ]
    },
    {
      "cell_type": "code",
      "metadata": {
        "colab": {
          "base_uri": "https://localhost:8080/"
        },
        "id": "BMIgZY1PVhIu",
        "outputId": "b54256ee-5849-4843-c1bd-4562383e0a65"
      },
      "source": [
        "social_media_object"
      ],
      "execution_count": null,
      "outputs": [
        {
          "output_type": "execute_result",
          "data": {
            "text/plain": [
              "[('Social Media DL (Bytes)', 269300061368.77365),\n",
              " ('Social Media UL (Bytes)', 4939298085.43438),\n",
              " ('Google DL (Bytes)', 862618643645.6193),\n",
              " ('Google UL (Bytes)', 308483345484.9263),\n",
              " ('Email DL (Bytes)', 268761121931.868),\n",
              " ('Email UL (Bytes)', 70106483664.44194),\n",
              " ('Youtube DL (Bytes)', 1745122509657.504),\n",
              " ('Youtube UL (Bytes)', 1651422529615.1348),\n",
              " ('Netflix DL (Bytes)', 1744039384662.7188),\n",
              " ('Netflix UL (Bytes)', 1650274224700.8196),\n",
              " ('Gaming DL (Bytes)', 63307127434008.59),\n",
              " ('Gaming UL (Bytes)', 1243268005008.1108),\n",
              " ('Other DL (Bytes)', 63165502729718.195),\n",
              " ('Other UL (Bytes)', 1239728178463.4243),\n",
              " ('Total UL (Bytes)', 6168180943816.0),\n",
              " ('Total DL (Bytes)', 68196514511845.0)]"
            ]
          },
          "metadata": {
            "tags": []
          },
          "execution_count": 245
        }
      ]
    },
    {
      "cell_type": "code",
      "metadata": {
        "colab": {
          "base_uri": "https://localhost:8080/",
          "height": 331
        },
        "id": "UB0fscNXXEwX",
        "outputId": "22caa69d-29d1-4364-b53f-250500c267b4"
      },
      "source": [
        "import matplotlib.pyplot as plt\n",
        "labels = [media[0] for media in social_media_object]\n",
        "print(labels)\n",
        "data = [data[1] for data in social_media_object]\n",
        "print(data)\n",
        "# g = sns.barplot(data=data)\n",
        "# g.set_xticklabels(labels=labels,rotation=90)\n",
        "plt.bar(x=labels, height=data)\n",
        "plt.show()"
      ],
      "execution_count": null,
      "outputs": [
        {
          "output_type": "stream",
          "text": [
            "['Social Media DL (Bytes)', 'Social Media UL (Bytes)', 'Google DL (Bytes)', 'Google UL (Bytes)', 'Email DL (Bytes)', 'Email UL (Bytes)', 'Youtube DL (Bytes)', 'Youtube UL (Bytes)', 'Netflix DL (Bytes)', 'Netflix UL (Bytes)', 'Gaming DL (Bytes)', 'Gaming UL (Bytes)', 'Other DL (Bytes)', 'Other UL (Bytes)', 'Total UL (Bytes)', 'Total DL (Bytes)']\n",
            "[269300061368.77365, 4939298085.43438, 862618643645.6193, 308483345484.9263, 268761121931.868, 70106483664.44194, 1745122509657.504, 1651422529615.1348, 1744039384662.7188, 1650274224700.8196, 63307127434008.59, 1243268005008.1108, 63165502729718.195, 1239728178463.4243, 6168180943816.0, 68196514511845.0]\n"
          ],
          "name": "stdout"
        },
        {
          "output_type": "display_data",
          "data": {
            "image/png": "[encoded data removed]",
            "text/plain": [
              "<Figure size 432x288 with 1 Axes>"
            ]
          },
          "metadata": {
            "tags": [],
            "needs_background": "light"
          }
        }
      ]
    }
  ]
}