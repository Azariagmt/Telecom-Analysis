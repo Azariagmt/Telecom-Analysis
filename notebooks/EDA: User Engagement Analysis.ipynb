{
 "metadata": {
  "language_info": {
   "codemirror_mode": {
    "name": "ipython",
    "version": 3
   },
   "file_extension": ".py",
   "mimetype": "text/x-python",
   "name": "python",
   "nbconvert_exporter": "python",
   "pygments_lexer": "ipython3",
   "version": "3.7.4"
  },
  "orig_nbformat": 4,
  "kernelspec": {
   "name": "python3",
   "display_name": "Python 3.7.4 64-bit ('base': conda)"
  },
  "interpreter": {
   "hash": "6aaa23097a2d4fdae6aae0504b1e503e9faee4ab88a3830d072978daa083ef20"
  }
 },
 "nbformat": 4,
 "nbformat_minor": 2,
 "cells": [
  {
   "cell_type": "code",
   "execution_count": 1,
   "metadata": {},
   "outputs": [],
   "source": [
    "%%capture \n",
    "%run \"./utils.ipynb\""
   ]
  },
  {
   "cell_type": "code",
   "execution_count": 4,
   "metadata": {},
   "outputs": [
    {
     "output_type": "execute_result",
     "data": {
      "text/plain": [
       "     Unnamed: 0  number of sessions  Dur. (ms)   Total UL    Total DL  \\\n",
       "0  2.040471e+14                   1   869844.0  60.456049   78.697597   \n",
       "1  2.040808e+14                   1   877385.0  37.295915  194.828056   \n",
       "2  2.082001e+14                   1    86019.0  53.794658   31.376981   \n",
       "3  2.082001e+14                   1    86254.0  33.583272  392.918313   \n",
       "4  2.082001e+14                   2   573923.0  71.325004  961.767023   \n",
       "\n",
       "   Total sessions(mb)   Social media total volume   Google total volume   \\\n",
       "0           139.153646                    1.546088              9.218647   \n",
       "1           232.123971                    0.715224             10.438660   \n",
       "2            85.171639                    3.122781              1.624662   \n",
       "3           426.501585                    2.577104             13.811478   \n",
       "4          1033.092027                    3.426716             11.665887   \n",
       "\n",
       "   Email total volume   Youtube total volume   Netflix total volume   \\\n",
       "0             3.330974              40.940710              28.846230   \n",
       "1             1.520771              11.959905              26.592300   \n",
       "2             3.657501              19.882439              31.830562   \n",
       "3             3.855734              25.657632              27.785852   \n",
       "4             5.564462              13.840201              57.343415   \n",
       "\n",
       "   Gaming total volume   Other sources  \n",
       "0             43.070260     401.360457  \n",
       "1            178.048738     470.526473  \n",
       "2              9.124516     515.973704  \n",
       "3            344.105897     309.610741  \n",
       "4            917.684766    1079.435419  "
      ],
      "text/html": "<div>\n<style scoped>\n    .dataframe tbody tr th:only-of-type {\n        vertical-align: middle;\n    }\n\n    .dataframe tbody tr th {\n        vertical-align: top;\n    }\n\n    .dataframe thead th {\n        text-align: right;\n    }\n</style>\n<table border=\"1\" class=\"dataframe\">\n  <thead>\n    <tr style=\"text-align: right;\">\n      <th></th>\n      <th>Unnamed: 0</th>\n      <th>number of sessions</th>\n      <th>Dur. (ms)</th>\n      <th>Total UL</th>\n      <th>Total DL</th>\n      <th>Total sessions(mb)</th>\n      <th>Social media total volume</th>\n      <th>Google total volume</th>\n      <th>Email total volume</th>\n      <th>Youtube total volume</th>\n      <th>Netflix total volume</th>\n      <th>Gaming total volume</th>\n      <th>Other sources</th>\n    </tr>\n  </thead>\n  <tbody>\n    <tr>\n      <td>0</td>\n      <td>2.040471e+14</td>\n      <td>1</td>\n      <td>869844.0</td>\n      <td>60.456049</td>\n      <td>78.697597</td>\n      <td>139.153646</td>\n      <td>1.546088</td>\n      <td>9.218647</td>\n      <td>3.330974</td>\n      <td>40.940710</td>\n      <td>28.846230</td>\n      <td>43.070260</td>\n      <td>401.360457</td>\n    </tr>\n    <tr>\n      <td>1</td>\n      <td>2.040808e+14</td>\n      <td>1</td>\n      <td>877385.0</td>\n      <td>37.295915</td>\n      <td>194.828056</td>\n      <td>232.123971</td>\n      <td>0.715224</td>\n      <td>10.438660</td>\n      <td>1.520771</td>\n      <td>11.959905</td>\n      <td>26.592300</td>\n      <td>178.048738</td>\n      <td>470.526473</td>\n    </tr>\n    <tr>\n      <td>2</td>\n      <td>2.082001e+14</td>\n      <td>1</td>\n      <td>86019.0</td>\n      <td>53.794658</td>\n      <td>31.376981</td>\n      <td>85.171639</td>\n      <td>3.122781</td>\n      <td>1.624662</td>\n      <td>3.657501</td>\n      <td>19.882439</td>\n      <td>31.830562</td>\n      <td>9.124516</td>\n      <td>515.973704</td>\n    </tr>\n    <tr>\n      <td>3</td>\n      <td>2.082001e+14</td>\n      <td>1</td>\n      <td>86254.0</td>\n      <td>33.583272</td>\n      <td>392.918313</td>\n      <td>426.501585</td>\n      <td>2.577104</td>\n      <td>13.811478</td>\n      <td>3.855734</td>\n      <td>25.657632</td>\n      <td>27.785852</td>\n      <td>344.105897</td>\n      <td>309.610741</td>\n    </tr>\n    <tr>\n      <td>4</td>\n      <td>2.082001e+14</td>\n      <td>2</td>\n      <td>573923.0</td>\n      <td>71.325004</td>\n      <td>961.767023</td>\n      <td>1033.092027</td>\n      <td>3.426716</td>\n      <td>11.665887</td>\n      <td>5.564462</td>\n      <td>13.840201</td>\n      <td>57.343415</td>\n      <td>917.684766</td>\n      <td>1079.435419</td>\n    </tr>\n  </tbody>\n</table>\n</div>"
     },
     "metadata": {},
     "execution_count": 4
    }
   ],
   "source": [
    "clean_df = pd.read_csv('../data/clean_df.csv')\n",
    "sessions_df = pd.read_csv('../data/sessions_df.csv')\n",
    "sessions_df.head()"
   ]
  },
  {
   "cell_type": "code",
   "execution_count": 5,
   "metadata": {},
   "outputs": [],
   "source": [
    "engagement_metrics = ['number of sessions','Dur. (ms)','Total sessions(mb) ']"
   ]
  },
  {
   "cell_type": "code",
   "execution_count": null,
   "metadata": {},
   "outputs": [],
   "source": [
    "# Users = df_clean.groupby(['MSISDN/Number'])"
   ]
  }
 ]
}