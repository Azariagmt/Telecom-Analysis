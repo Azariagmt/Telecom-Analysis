{
 "metadata": {
  "language_info": {
   "codemirror_mode": {
    "name": "ipython",
    "version": 3
   },
   "file_extension": ".py",
   "mimetype": "text/x-python",
   "name": "python",
   "nbconvert_exporter": "python",
   "pygments_lexer": "ipython3",
   "version": "3.7.4"
  },
  "orig_nbformat": 4,
  "kernelspec": {
   "name": "python3",
   "display_name": "Python 3.7.4 64-bit ('base': conda)"
  },
  "interpreter": {
   "hash": "6aaa23097a2d4fdae6aae0504b1e503e9faee4ab88a3830d072978daa083ef20"
  }
 },
 "nbformat": 4,
 "nbformat_minor": 2,
 "cells": [
  {
   "cell_type": "code",
   "execution_count": null,
   "metadata": {},
   "outputs": [],
   "source": [
    "%%capture \n",
    "%run \"./utils.ipynb\""
   ]
  },
  {
   "cell_type": "code",
   "execution_count": null,
   "metadata": {},
   "outputs": [],
   "source": [
    "clean_df = pd.read_csv('../data/clean_df.csv')\n",
    "sessions_df = pd.read_csv('../data/sessions_df.csv')\n",
    "sessions_df.head()"
   ]
  },
  {
   "source": [
    "## Find top customers by engagement metric"
   ],
   "cell_type": "markdown",
   "metadata": {}
  },
  {
   "cell_type": "code",
   "execution_count": 21,
   "metadata": {},
   "outputs": [],
   "source": [
    "engagement_metrics = ['number of sessions','duration','Total sessions(mb) ']"
   ]
  },
  {
   "cell_type": "code",
   "execution_count": 22,
   "metadata": {},
   "outputs": [],
   "source": [
    "merged_df = pd.concat([clean_df,sessions_df], axis=1)\n",
    "Users = merged_df.groupby(['MSISDN/Number'])"
   ]
  },
  {
   "cell_type": "code",
   "execution_count": 32,
   "metadata": {},
   "outputs": [
    {
     "output_type": "execute_result",
     "data": {
      "text/plain": [
       "                      Unnamed: 0             Bearer Id                Start  \\\n",
       "0  1970-01-01 00:00:00.000000000  13114483460844900352  2019-04-04 12:01:18   \n",
       "1  1970-01-01 00:00:00.000000001  13114483482878900224  2019-04-09 13:04:04   \n",
       "2  1970-01-01 00:00:00.000000002  13114483484080500736  2019-04-09 17:42:11   \n",
       "3  1970-01-01 00:00:00.000000003  13114483485442799616  2019-04-10 00:31:25   \n",
       "4  1970-01-01 00:00:00.000000004  13114483499480700928  2019-04-12 20:10:23   \n",
       "\n",
       "   Start ms                  End  End ms  Dur. (ms)          IMSI  \\\n",
       "0     770.0  2019-04-25 14:35:31   662.0  1823652.0  2.082014e+14   \n",
       "1     235.0  2019-04-25 08:15:48   606.0  1365104.0  2.082019e+14   \n",
       "2       1.0  2019-04-25 11:58:13   652.0  1361762.0  2.082003e+14   \n",
       "3     486.0  2019-04-25 07:36:35   171.0  1321509.0  2.082014e+14   \n",
       "4     565.0  2019-04-25 10:40:32   954.0  1089009.0  2.082014e+14   \n",
       "\n",
       "   MSISDN/Number          IMEI  ...   Total UL    Total DL  \\\n",
       "0   3.366496e+10  3.552121e+13  ...  60.456049   78.697597   \n",
       "1   3.368185e+10  3.579401e+13  ...  37.295915  194.828056   \n",
       "2   3.376063e+10  3.528151e+13  ...  53.794658   31.376981   \n",
       "3   3.375034e+10  3.535661e+13  ...  33.583272  392.918313   \n",
       "4   3.369980e+10  3.540701e+13  ...  71.325004  961.767023   \n",
       "\n",
       "   Total sessions(mb)   Social media total volume   Google total volume   \\\n",
       "0           139.153646                    1.546088              9.218647   \n",
       "1           232.123971                    0.715224             10.438660   \n",
       "2            85.171639                    3.122781              1.624662   \n",
       "3           426.501585                    2.577104             13.811478   \n",
       "4          1033.092027                    3.426716             11.665887   \n",
       "\n",
       "   Email total volume   Youtube total volume   Netflix total volume   \\\n",
       "0             3.330974              40.940710              28.846230   \n",
       "1             1.520771              11.959905              26.592300   \n",
       "2             3.657501              19.882439              31.830562   \n",
       "3             3.855734              25.657632              27.785852   \n",
       "4             5.564462              13.840201              57.343415   \n",
       "\n",
       "   Gaming total volume   Other sources  \n",
       "0             43.070260     401.360457  \n",
       "1            178.048738     470.526473  \n",
       "2              9.124516     515.973704  \n",
       "3            344.105897     309.610741  \n",
       "4            917.684766    1079.435419  \n",
       "\n",
       "[5 rows x 61 columns]"
      ],
      "text/html": "<div>\n<style scoped>\n    .dataframe tbody tr th:only-of-type {\n        vertical-align: middle;\n    }\n\n    .dataframe tbody tr th {\n        vertical-align: top;\n    }\n\n    .dataframe thead th {\n        text-align: right;\n    }\n</style>\n<table border=\"1\" class=\"dataframe\">\n  <thead>\n    <tr style=\"text-align: right;\">\n      <th></th>\n      <th>Unnamed: 0</th>\n      <th>Bearer Id</th>\n      <th>Start</th>\n      <th>Start ms</th>\n      <th>End</th>\n      <th>End ms</th>\n      <th>Dur. (ms)</th>\n      <th>IMSI</th>\n      <th>MSISDN/Number</th>\n      <th>IMEI</th>\n      <th>...</th>\n      <th>Total UL</th>\n      <th>Total DL</th>\n      <th>Total sessions(mb)</th>\n      <th>Social media total volume</th>\n      <th>Google total volume</th>\n      <th>Email total volume</th>\n      <th>Youtube total volume</th>\n      <th>Netflix total volume</th>\n      <th>Gaming total volume</th>\n      <th>Other sources</th>\n    </tr>\n  </thead>\n  <tbody>\n    <tr>\n      <td>0</td>\n      <td>1970-01-01 00:00:00.000000000</td>\n      <td>13114483460844900352</td>\n      <td>2019-04-04 12:01:18</td>\n      <td>770.0</td>\n      <td>2019-04-25 14:35:31</td>\n      <td>662.0</td>\n      <td>1823652.0</td>\n      <td>2.082014e+14</td>\n      <td>3.366496e+10</td>\n      <td>3.552121e+13</td>\n      <td>...</td>\n      <td>60.456049</td>\n      <td>78.697597</td>\n      <td>139.153646</td>\n      <td>1.546088</td>\n      <td>9.218647</td>\n      <td>3.330974</td>\n      <td>40.940710</td>\n      <td>28.846230</td>\n      <td>43.070260</td>\n      <td>401.360457</td>\n    </tr>\n    <tr>\n      <td>1</td>\n      <td>1970-01-01 00:00:00.000000001</td>\n      <td>13114483482878900224</td>\n      <td>2019-04-09 13:04:04</td>\n      <td>235.0</td>\n      <td>2019-04-25 08:15:48</td>\n      <td>606.0</td>\n      <td>1365104.0</td>\n      <td>2.082019e+14</td>\n      <td>3.368185e+10</td>\n      <td>3.579401e+13</td>\n      <td>...</td>\n      <td>37.295915</td>\n      <td>194.828056</td>\n      <td>232.123971</td>\n      <td>0.715224</td>\n      <td>10.438660</td>\n      <td>1.520771</td>\n      <td>11.959905</td>\n      <td>26.592300</td>\n      <td>178.048738</td>\n      <td>470.526473</td>\n    </tr>\n    <tr>\n      <td>2</td>\n      <td>1970-01-01 00:00:00.000000002</td>\n      <td>13114483484080500736</td>\n      <td>2019-04-09 17:42:11</td>\n      <td>1.0</td>\n      <td>2019-04-25 11:58:13</td>\n      <td>652.0</td>\n      <td>1361762.0</td>\n      <td>2.082003e+14</td>\n      <td>3.376063e+10</td>\n      <td>3.528151e+13</td>\n      <td>...</td>\n      <td>53.794658</td>\n      <td>31.376981</td>\n      <td>85.171639</td>\n      <td>3.122781</td>\n      <td>1.624662</td>\n      <td>3.657501</td>\n      <td>19.882439</td>\n      <td>31.830562</td>\n      <td>9.124516</td>\n      <td>515.973704</td>\n    </tr>\n    <tr>\n      <td>3</td>\n      <td>1970-01-01 00:00:00.000000003</td>\n      <td>13114483485442799616</td>\n      <td>2019-04-10 00:31:25</td>\n      <td>486.0</td>\n      <td>2019-04-25 07:36:35</td>\n      <td>171.0</td>\n      <td>1321509.0</td>\n      <td>2.082014e+14</td>\n      <td>3.375034e+10</td>\n      <td>3.535661e+13</td>\n      <td>...</td>\n      <td>33.583272</td>\n      <td>392.918313</td>\n      <td>426.501585</td>\n      <td>2.577104</td>\n      <td>13.811478</td>\n      <td>3.855734</td>\n      <td>25.657632</td>\n      <td>27.785852</td>\n      <td>344.105897</td>\n      <td>309.610741</td>\n    </tr>\n    <tr>\n      <td>4</td>\n      <td>1970-01-01 00:00:00.000000004</td>\n      <td>13114483499480700928</td>\n      <td>2019-04-12 20:10:23</td>\n      <td>565.0</td>\n      <td>2019-04-25 10:40:32</td>\n      <td>954.0</td>\n      <td>1089009.0</td>\n      <td>2.082014e+14</td>\n      <td>3.369980e+10</td>\n      <td>3.540701e+13</td>\n      <td>...</td>\n      <td>71.325004</td>\n      <td>961.767023</td>\n      <td>1033.092027</td>\n      <td>3.426716</td>\n      <td>11.665887</td>\n      <td>5.564462</td>\n      <td>13.840201</td>\n      <td>57.343415</td>\n      <td>917.684766</td>\n      <td>1079.435419</td>\n    </tr>\n  </tbody>\n</table>\n<p>5 rows × 61 columns</p>\n</div>"
     },
     "metadata": {},
     "execution_count": 32
    }
   ],
   "source": [
    "merged_df.head()"
   ]
  },
  {
   "cell_type": "code",
   "execution_count": 57,
   "metadata": {},
   "outputs": [
    {
     "output_type": "stream",
     "name": "stdout",
     "text": [
      "MSISDN/Number  number of sessions\n3.367173e+10   18.0                  1\n3.367463e+10   17.0                  1\n3.366344e+10   17.0                  1\n3.368638e+10   16.0                  1\n3.368325e+10   15.0                  1\n3.360679e+10   15.0                  1\n3.366014e+10   13.0                  1\n3.378709e+10   12.0                  1\n3.376198e+10   12.0                  1\n3.376161e+10   12.0                  1\nName: number of sessions, dtype: int64\nMSISDN/Number  duration \n3.362578e+10   1859337.0    1\n               1859328.0    1\n3.366496e+10   1823653.0    1\n3.362578e+10   1772931.0    1\n               1686494.0    1\n3.376355e+10   1679814.0    1\n               1634983.0    1\n3.362578e+10   1600088.0    1\n3.366926e+10   1573421.0    1\n3.366172e+10   1480875.0    1\nName: duration, dtype: int64\nMSISDN/Number  Total sessions(mb) \n3.366344e+10   8846.226494            1\n3.368325e+10   8514.773963            1\n3.367463e+10   8499.620722            1\n3.367173e+10   7971.167261            1\n3.360679e+10   7891.110608            1\n3.368638e+10   7705.862783            1\n3.366960e+10   7308.500938            1\n3.376161e+10   7132.370514            1\n3.376213e+10   6872.018208            1\n3.376041e+10   6540.899126            1\nName: Total sessions(mb) , dtype: int64\n"
     ]
    }
   ],
   "source": [
    "for metric in engagement_metrics:\n",
    "    grouping = Users[metric].value_counts().sort_index(level=1, ascending=False)[:10]\n",
    "    print(grouping)"
   ]
  },
  {
   "cell_type": "code",
   "execution_count": null,
   "metadata": {},
   "outputs": [],
   "source": []
  }
 ]
}