{
 "metadata": {
  "language_info": {
   "codemirror_mode": {
    "name": "ipython",
    "version": 3
   },
   "file_extension": ".py",
   "mimetype": "text/x-python",
   "name": "python",
   "nbconvert_exporter": "python",
   "pygments_lexer": "ipython3",
   "version": "3.7.4"
  },
  "orig_nbformat": 4,
  "kernelspec": {
   "name": "python3",
   "display_name": "Python 3.7.4 64-bit ('base': conda)"
  },
  "interpreter": {
   "hash": "6aaa23097a2d4fdae6aae0504b1e503e9faee4ab88a3830d072978daa083ef20"
  }
 },
 "nbformat": 4,
 "nbformat_minor": 2,
 "cells": [
  {
   "cell_type": "code",
   "execution_count": 16,
   "metadata": {},
   "outputs": [],
   "source": [
    "%%capture \n",
    "%run \"./utils.ipynb\"\n",
    "# %run \"./EDA: Experience Analysis.ipynb\"\n",
    "%store -r focused_df"
   ]
  },
  {
   "cell_type": "code",
   "execution_count": 17,
   "metadata": {},
   "outputs": [
    {
     "output_type": "execute_result",
     "data": {
      "text/plain": [
       "   Avg RTT DL (ms)  Avg RTT UL (ms)  Avg Bearer TP DL (kbps)  \\\n",
       "0             42.0              5.0                     23.0   \n",
       "1             65.0              5.0                     16.0   \n",
       "6            102.0              5.0                     22.0   \n",
       "7             39.0             18.0                   3698.0   \n",
       "9             97.0              7.0                   3845.0   \n",
       "\n",
       "   Avg Bearer TP UL (kbps)  TCP DL Retrans. Vol (Bytes)  \\\n",
       "0                     44.0                     573621.0   \n",
       "1                     26.0                     573621.0   \n",
       "6                     38.0                     573621.0   \n",
       "7                    416.0                      19520.0   \n",
       "9                   2535.0                    3231397.0   \n",
       "\n",
       "   TCP UL Retrans. Vol (Bytes)                         Handset Type      0  \\\n",
       "0                      21035.0           Samsung Galaxy A5 Sm-A520F   47.0   \n",
       "1                      21035.0          Samsung Galaxy J5 (Sm-J530)   70.0   \n",
       "6                      21035.0                  Huawei Mate 20 Lite  107.0   \n",
       "7                      21035.0                            undefined   57.0   \n",
       "9                       7230.0  Samsung Galaxy Note 8 (Sm-N950F Ds)  104.0   \n",
       "\n",
       "        1          2  \n",
       "0    67.0   594656.0  \n",
       "1    42.0   594656.0  \n",
       "6    60.0   594656.0  \n",
       "7  4114.0    40555.0  \n",
       "9  6380.0  3238627.0  "
      ],
      "text/html": "<div>\n<style scoped>\n    .dataframe tbody tr th:only-of-type {\n        vertical-align: middle;\n    }\n\n    .dataframe tbody tr th {\n        vertical-align: top;\n    }\n\n    .dataframe thead th {\n        text-align: right;\n    }\n</style>\n<table border=\"1\" class=\"dataframe\">\n  <thead>\n    <tr style=\"text-align: right;\">\n      <th></th>\n      <th>Avg RTT DL (ms)</th>\n      <th>Avg RTT UL (ms)</th>\n      <th>Avg Bearer TP DL (kbps)</th>\n      <th>Avg Bearer TP UL (kbps)</th>\n      <th>TCP DL Retrans. Vol (Bytes)</th>\n      <th>TCP UL Retrans. Vol (Bytes)</th>\n      <th>Handset Type</th>\n      <th>0</th>\n      <th>1</th>\n      <th>2</th>\n    </tr>\n  </thead>\n  <tbody>\n    <tr>\n      <td>0</td>\n      <td>42.0</td>\n      <td>5.0</td>\n      <td>23.0</td>\n      <td>44.0</td>\n      <td>573621.0</td>\n      <td>21035.0</td>\n      <td>Samsung Galaxy A5 Sm-A520F</td>\n      <td>47.0</td>\n      <td>67.0</td>\n      <td>594656.0</td>\n    </tr>\n    <tr>\n      <td>1</td>\n      <td>65.0</td>\n      <td>5.0</td>\n      <td>16.0</td>\n      <td>26.0</td>\n      <td>573621.0</td>\n      <td>21035.0</td>\n      <td>Samsung Galaxy J5 (Sm-J530)</td>\n      <td>70.0</td>\n      <td>42.0</td>\n      <td>594656.0</td>\n    </tr>\n    <tr>\n      <td>6</td>\n      <td>102.0</td>\n      <td>5.0</td>\n      <td>22.0</td>\n      <td>38.0</td>\n      <td>573621.0</td>\n      <td>21035.0</td>\n      <td>Huawei Mate 20 Lite</td>\n      <td>107.0</td>\n      <td>60.0</td>\n      <td>594656.0</td>\n    </tr>\n    <tr>\n      <td>7</td>\n      <td>39.0</td>\n      <td>18.0</td>\n      <td>3698.0</td>\n      <td>416.0</td>\n      <td>19520.0</td>\n      <td>21035.0</td>\n      <td>undefined</td>\n      <td>57.0</td>\n      <td>4114.0</td>\n      <td>40555.0</td>\n    </tr>\n    <tr>\n      <td>9</td>\n      <td>97.0</td>\n      <td>7.0</td>\n      <td>3845.0</td>\n      <td>2535.0</td>\n      <td>3231397.0</td>\n      <td>7230.0</td>\n      <td>Samsung Galaxy Note 8 (Sm-N950F Ds)</td>\n      <td>104.0</td>\n      <td>6380.0</td>\n      <td>3238627.0</td>\n    </tr>\n  </tbody>\n</table>\n</div>"
     },
     "metadata": {},
     "execution_count": 17
    }
   ],
   "source": [
    "focused_df.head()"
   ]
  },
  {
   "cell_type": "code",
   "execution_count": 18,
   "metadata": {},
   "outputs": [
    {
     "output_type": "execute_result",
     "data": {
      "text/plain": [
       "   Avg RTT DL (ms)  Avg RTT UL (ms)  Avg Bearer TP DL (kbps)  \\\n",
       "0             42.0              5.0                     23.0   \n",
       "1             65.0              5.0                     16.0   \n",
       "6            102.0              5.0                     22.0   \n",
       "7             39.0             18.0                   3698.0   \n",
       "9             97.0              7.0                   3845.0   \n",
       "\n",
       "   Avg Bearer TP UL (kbps)  TCP DL Retrans. Vol (Bytes)  \\\n",
       "0                     44.0                     573621.0   \n",
       "1                     26.0                     573621.0   \n",
       "6                     38.0                     573621.0   \n",
       "7                    416.0                      19520.0   \n",
       "9                   2535.0                    3231397.0   \n",
       "\n",
       "   TCP UL Retrans. Vol (Bytes)      0       1          2  \n",
       "0                      21035.0   47.0    67.0   594656.0  \n",
       "1                      21035.0   70.0    42.0   594656.0  \n",
       "6                      21035.0  107.0    60.0   594656.0  \n",
       "7                      21035.0   57.0  4114.0    40555.0  \n",
       "9                       7230.0  104.0  6380.0  3238627.0  "
      ],
      "text/html": "<div>\n<style scoped>\n    .dataframe tbody tr th:only-of-type {\n        vertical-align: middle;\n    }\n\n    .dataframe tbody tr th {\n        vertical-align: top;\n    }\n\n    .dataframe thead th {\n        text-align: right;\n    }\n</style>\n<table border=\"1\" class=\"dataframe\">\n  <thead>\n    <tr style=\"text-align: right;\">\n      <th></th>\n      <th>Avg RTT DL (ms)</th>\n      <th>Avg RTT UL (ms)</th>\n      <th>Avg Bearer TP DL (kbps)</th>\n      <th>Avg Bearer TP UL (kbps)</th>\n      <th>TCP DL Retrans. Vol (Bytes)</th>\n      <th>TCP UL Retrans. Vol (Bytes)</th>\n      <th>0</th>\n      <th>1</th>\n      <th>2</th>\n    </tr>\n  </thead>\n  <tbody>\n    <tr>\n      <td>0</td>\n      <td>42.0</td>\n      <td>5.0</td>\n      <td>23.0</td>\n      <td>44.0</td>\n      <td>573621.0</td>\n      <td>21035.0</td>\n      <td>47.0</td>\n      <td>67.0</td>\n      <td>594656.0</td>\n    </tr>\n    <tr>\n      <td>1</td>\n      <td>65.0</td>\n      <td>5.0</td>\n      <td>16.0</td>\n      <td>26.0</td>\n      <td>573621.0</td>\n      <td>21035.0</td>\n      <td>70.0</td>\n      <td>42.0</td>\n      <td>594656.0</td>\n    </tr>\n    <tr>\n      <td>6</td>\n      <td>102.0</td>\n      <td>5.0</td>\n      <td>22.0</td>\n      <td>38.0</td>\n      <td>573621.0</td>\n      <td>21035.0</td>\n      <td>107.0</td>\n      <td>60.0</td>\n      <td>594656.0</td>\n    </tr>\n    <tr>\n      <td>7</td>\n      <td>39.0</td>\n      <td>18.0</td>\n      <td>3698.0</td>\n      <td>416.0</td>\n      <td>19520.0</td>\n      <td>21035.0</td>\n      <td>57.0</td>\n      <td>4114.0</td>\n      <td>40555.0</td>\n    </tr>\n    <tr>\n      <td>9</td>\n      <td>97.0</td>\n      <td>7.0</td>\n      <td>3845.0</td>\n      <td>2535.0</td>\n      <td>3231397.0</td>\n      <td>7230.0</td>\n      <td>104.0</td>\n      <td>6380.0</td>\n      <td>3238627.0</td>\n    </tr>\n  </tbody>\n</table>\n</div>"
     },
     "metadata": {},
     "execution_count": 18
    }
   ],
   "source": [
    "focused_df = focused_df[focused_df != \"Handset Type\"]\n",
    "focused_df =focused_df.drop('Handset Type', axis=1)\n",
    "focused_df.head()"
   ]
  },
  {
   "cell_type": "code",
   "execution_count": 31,
   "metadata": {},
   "outputs": [
    {
     "output_type": "execute_result",
     "data": {
      "text/plain": [
       "array([[-0.04824837],\n",
       "       [-0.0483139 ],\n",
       "       [-0.04826731],\n",
       "       [-0.0376893 ],\n",
       "       [-0.03172794],\n",
       "       [ 0.04253   ],\n",
       "       [-0.02528381],\n",
       "       [-0.04593075],\n",
       "       [-0.04809401],\n",
       "       [-0.04831358]])"
      ]
     },
     "metadata": {},
     "execution_count": 31
    }
   ],
   "source": [
    "from sklearn.preprocessing import MinMaxScaler\n",
    "from sklearn.decomposition import PCA\n",
    "\n",
    "scaler = MinMaxScaler()\n",
    "# Normalize the numeric features so they're on the same scale\n",
    "scaled_features = scaler.fit_transform(focused_df[focused_df.columns[6:]])\n",
    "\n",
    "# Get two principal components\n",
    "pca = PCA(n_components=1).fit(scaled_features)\n",
    "features_1d = pca.transform(scaled_features)\n",
    "features_1d[0:10]"
   ]
  },
  {
   "cell_type": "code",
   "execution_count": 32,
   "metadata": {},
   "outputs": [],
   "source": [
    "# calculating euclidean distance between vectors\n",
    "from math import sqrt\n",
    " \n",
    "# calculate euclidean distance\n",
    "def euclidean_distance(a, b):\n",
    "\treturn sqrt(sum((e1-e2)**2 for e1, e2 in zip(a,b)))"
   ]
  },
  {
   "cell_type": "code",
   "execution_count": 35,
   "metadata": {},
   "outputs": [],
   "source": [
    "# calculated in Modelling: K-means User experience notebook\n",
    "less_engaged_user_XP = scaler.transform([[1.47957576e+02, 7.23192909e+04, 3.10186915e+09]])\n",
    "engagement_1d = pca.transform(less_engaged_user_XP)"
   ]
  },
  {
   "cell_type": "code",
   "execution_count": 39,
   "metadata": {},
   "outputs": [
    {
     "output_type": "execute_result",
     "data": {
      "text/plain": [
       "array([[0.1842272]])"
      ]
     },
     "metadata": {},
     "execution_count": 39
    }
   ],
   "source": [
    "engagement_1d"
   ]
  },
  {
   "cell_type": "code",
   "execution_count": 45,
   "metadata": {},
   "outputs": [
    {
     "output_type": "stream",
     "name": "stdout",
     "text": [
      "[[-0.04824837]\n [-0.0483139 ]\n [-0.04826731]\n ...\n [-0.04822206]\n [-0.04818833]\n [-0.04823787]]\n"
     ]
    }
   ],
   "source": [
    "for key, item in enumerate(engagement_1d):\n",
    "    print(features_1d)\n",
    "    dist = euclidean_distance(features_1d[key], engagement_1d)\n",
    "    focused_df['engagement_score'] = dist"
   ]
  },
  {
   "cell_type": "code",
   "execution_count": 44,
   "metadata": {},
   "outputs": [
    {
     "output_type": "execute_result",
     "data": {
      "text/plain": [
       "    Avg RTT DL (ms)  Avg RTT UL (ms)  Avg Bearer TP DL (kbps)  \\\n",
       "0              42.0              5.0                     23.0   \n",
       "1              65.0              5.0                     16.0   \n",
       "6             102.0              5.0                     22.0   \n",
       "7              39.0             18.0                   3698.0   \n",
       "9              97.0              7.0                   3845.0   \n",
       "11            217.0              4.0                  28305.0   \n",
       "14             79.0              4.0                   4148.0   \n",
       "15             39.0             33.0                    263.0   \n",
       "16             18.0              2.0                     47.0   \n",
       "17             36.0              5.0                     16.0   \n",
       "18             57.0              5.0                     31.0   \n",
       "20            409.0             43.0                  29501.0   \n",
       "21             63.0              6.0                   4461.0   \n",
       "22             22.0              1.0                     49.0   \n",
       "25             63.0              4.0                     22.0   \n",
       "26             33.0              6.0                     35.0   \n",
       "28             35.0              1.0                      8.0   \n",
       "29             57.0             51.0                  17457.0   \n",
       "30            273.0             22.0                  26037.0   \n",
       "32             12.0              2.0                     41.0   \n",
       "34             32.0              1.0                     22.0   \n",
       "36             27.0              5.0                     15.0   \n",
       "38             79.0              2.0                      9.0   \n",
       "39             31.0             21.0                     30.0   \n",
       "41             36.0              1.0                     31.0   \n",
       "43             47.0             25.0                  25620.0   \n",
       "45             40.0              1.0                      8.0   \n",
       "46             90.0             30.0                  34097.0   \n",
       "47             38.0              1.0                     85.0   \n",
       "48             33.0              6.0                     49.0   \n",
       "50             50.0             18.0                  27585.0   \n",
       "51             27.0              2.0                     64.0   \n",
       "52             34.0              5.0                     66.0   \n",
       "54             28.0              0.0                     51.0   \n",
       "57             55.0              5.0                     67.0   \n",
       "58             42.0            353.0                    674.0   \n",
       "59             32.0              1.0                     16.0   \n",
       "61            213.0              6.0                  60277.0   \n",
       "62             52.0             11.0                  14621.0   \n",
       "63             75.0             14.0                   3431.0   \n",
       "65             30.0              3.0                     47.0   \n",
       "68            853.0              2.0                  11517.0   \n",
       "70             30.0              1.0                     82.0   \n",
       "71             21.0              2.0                     63.0   \n",
       "72             42.0            530.0                    639.0   \n",
       "73             34.0              1.0                     23.0   \n",
       "75             51.0              1.0                     23.0   \n",
       "77             62.0              5.0                     50.0   \n",
       "78             91.0             24.0                  54827.0   \n",
       "79             13.0              5.0                     45.0   \n",
       "\n",
       "    Avg Bearer TP UL (kbps)  TCP DL Retrans. Vol (Bytes)  \\\n",
       "0                      44.0                     573621.0   \n",
       "1                      26.0                     573621.0   \n",
       "6                      38.0                     573621.0   \n",
       "7                     416.0                      19520.0   \n",
       "9                    2535.0                    3231397.0   \n",
       "11                   6500.0                    5722628.0   \n",
       "14                   4540.0                   32754526.0   \n",
       "15                    620.0                   12964929.0   \n",
       "16                     79.0                     573621.0   \n",
       "17                     26.0                     573621.0   \n",
       "18                     52.0                     573621.0   \n",
       "20                  10557.0                    9844005.0   \n",
       "21                   1912.0                   24721850.0   \n",
       "22                     52.0                     573621.0   \n",
       "25                     35.0                     573621.0   \n",
       "26                     44.0                     573621.0   \n",
       "28                     25.0                     573621.0   \n",
       "29                    325.0                     573621.0   \n",
       "30                   7205.0                   13144239.0   \n",
       "32                     54.0                     573621.0   \n",
       "34                     38.0                     573621.0   \n",
       "36                     26.0                     573621.0   \n",
       "38                    178.0                         68.0   \n",
       "39                      4.0                     573621.0   \n",
       "41                     52.0                     573621.0   \n",
       "43                    796.0                     218847.0   \n",
       "45                     13.0                     573621.0   \n",
       "46                   1179.0                     883703.0   \n",
       "47                     83.0                     573621.0   \n",
       "48                     49.0                     573621.0   \n",
       "50                    959.0                      75226.0   \n",
       "51                     86.0                     573621.0   \n",
       "52                     87.0                     573621.0   \n",
       "54                     61.0                     573621.0   \n",
       "57                     87.0                     573621.0   \n",
       "58                    477.0                       8568.0   \n",
       "59                     26.0                     573621.0   \n",
       "61                    988.0                    2199403.0   \n",
       "62                    371.0                       1432.0   \n",
       "63                    445.0                      50420.0   \n",
       "65                     53.0                     573621.0   \n",
       "68                  10147.0                     765968.0   \n",
       "70                     54.0                     573621.0   \n",
       "71                    135.0                     573621.0   \n",
       "72                    377.0                       5905.0   \n",
       "73                     54.0                     573621.0   \n",
       "75                     54.0                     573621.0   \n",
       "77                     41.0                     573621.0   \n",
       "78                   8032.0                     593180.0   \n",
       "79                     56.0                     573621.0   \n",
       "\n",
       "    TCP UL Retrans. Vol (Bytes)      0        1           2  engagement_score  \n",
       "0                       21035.0   47.0     67.0    594656.0          0.232476  \n",
       "1                       21035.0   70.0     42.0    594656.0          0.232476  \n",
       "6                       21035.0  107.0     60.0    594656.0          0.232476  \n",
       "7                       21035.0   57.0   4114.0     40555.0          0.232476  \n",
       "9                        7230.0  104.0   6380.0   3238627.0          0.232476  \n",
       "11                     312007.0  221.0  34805.0   6034635.0          0.232476  \n",
       "14                      34638.0   83.0   8688.0  32789164.0          0.232476  \n",
       "15                     882193.0   72.0    883.0  13847122.0          0.232476  \n",
       "16                      21035.0   20.0    126.0    594656.0          0.232476  \n",
       "17                      21035.0   41.0     42.0    594656.0          0.232476  \n",
       "18                      21035.0   62.0     83.0    594656.0          0.232476  \n",
       "20                      21586.0  452.0  40058.0   9865591.0          0.232476  \n",
       "21                      26511.0   69.0   6373.0  24748361.0          0.232476  \n",
       "22                      21035.0   23.0    101.0    594656.0          0.232476  \n",
       "25                      21035.0   67.0     57.0    594656.0          0.232476  \n",
       "26                      21035.0   39.0     79.0    594656.0          0.232476  \n",
       "28                      21035.0   36.0     33.0    594656.0          0.232476  \n",
       "29                      21035.0  108.0  17782.0    594656.0          0.232476  \n",
       "30                      21035.0  295.0  33242.0  13165274.0          0.232476  \n",
       "32                      21035.0   14.0     95.0    594656.0          0.232476  \n",
       "34                      21035.0   33.0     60.0    594656.0          0.232476  \n",
       "36                      21035.0   32.0     41.0    594656.0          0.232476  \n",
       "38                     428697.0   81.0    187.0    428765.0          0.232476  \n",
       "39                      21035.0   52.0     34.0    594656.0          0.232476  \n",
       "41                      21035.0   37.0     83.0    594656.0          0.232476  \n",
       "43                      17308.0   72.0  26416.0    236155.0          0.232476  \n",
       "45                      21035.0   41.0     21.0    594656.0          0.232476  \n",
       "46                     283290.0  120.0  35276.0   1166993.0          0.232476  \n",
       "47                      21035.0   39.0    168.0    594656.0          0.232476  \n",
       "48                      21035.0   39.0     98.0    594656.0          0.232476  \n",
       "50                      22406.0   68.0  28544.0     97632.0          0.232476  \n",
       "51                      21035.0   29.0    150.0    594656.0          0.232476  \n",
       "52                      21035.0   39.0    153.0    594656.0          0.232476  \n",
       "54                      21035.0   28.0    112.0    594656.0          0.232476  \n",
       "57                      21035.0   60.0    154.0    594656.0          0.232476  \n",
       "58                      21035.0  395.0   1151.0     29603.0          0.232476  \n",
       "59                      21035.0   33.0     42.0    594656.0          0.232476  \n",
       "61                      20024.0  219.0  61265.0   2219427.0          0.232476  \n",
       "62                      21035.0   63.0  14992.0     22467.0          0.232476  \n",
       "63                        512.0   89.0   3876.0     50932.0          0.232476  \n",
       "65                      21035.0   33.0    100.0    594656.0          0.232476  \n",
       "68                      31267.0  855.0  21664.0    797235.0          0.232476  \n",
       "70                      21035.0   31.0    136.0    594656.0          0.232476  \n",
       "71                      21035.0   23.0    198.0    594656.0          0.232476  \n",
       "72                      21035.0  572.0   1016.0     26940.0          0.232476  \n",
       "73                      21035.0   35.0     77.0    594656.0          0.232476  \n",
       "75                      21035.0   52.0     77.0    594656.0          0.232476  \n",
       "77                      21035.0   67.0     91.0    594656.0          0.232476  \n",
       "78                      64919.0  115.0  62859.0    658099.0          0.232476  \n",
       "79                      21035.0   18.0    101.0    594656.0          0.232476  "
      ],
      "text/html": "<div>\n<style scoped>\n    .dataframe tbody tr th:only-of-type {\n        vertical-align: middle;\n    }\n\n    .dataframe tbody tr th {\n        vertical-align: top;\n    }\n\n    .dataframe thead th {\n        text-align: right;\n    }\n</style>\n<table border=\"1\" class=\"dataframe\">\n  <thead>\n    <tr style=\"text-align: right;\">\n      <th></th>\n      <th>Avg RTT DL (ms)</th>\n      <th>Avg RTT UL (ms)</th>\n      <th>Avg Bearer TP DL (kbps)</th>\n      <th>Avg Bearer TP UL (kbps)</th>\n      <th>TCP DL Retrans. Vol (Bytes)</th>\n      <th>TCP UL Retrans. Vol (Bytes)</th>\n      <th>0</th>\n      <th>1</th>\n      <th>2</th>\n      <th>engagement_score</th>\n    </tr>\n  </thead>\n  <tbody>\n    <tr>\n      <td>0</td>\n      <td>42.0</td>\n      <td>5.0</td>\n      <td>23.0</td>\n      <td>44.0</td>\n      <td>573621.0</td>\n      <td>21035.0</td>\n      <td>47.0</td>\n      <td>67.0</td>\n      <td>594656.0</td>\n      <td>0.232476</td>\n    </tr>\n    <tr>\n      <td>1</td>\n      <td>65.0</td>\n      <td>5.0</td>\n      <td>16.0</td>\n      <td>26.0</td>\n      <td>573621.0</td>\n      <td>21035.0</td>\n      <td>70.0</td>\n      <td>42.0</td>\n      <td>594656.0</td>\n      <td>0.232476</td>\n    </tr>\n    <tr>\n      <td>6</td>\n      <td>102.0</td>\n      <td>5.0</td>\n      <td>22.0</td>\n      <td>38.0</td>\n      <td>573621.0</td>\n      <td>21035.0</td>\n      <td>107.0</td>\n      <td>60.0</td>\n      <td>594656.0</td>\n      <td>0.232476</td>\n    </tr>\n    <tr>\n      <td>7</td>\n      <td>39.0</td>\n      <td>18.0</td>\n      <td>3698.0</td>\n      <td>416.0</td>\n      <td>19520.0</td>\n      <td>21035.0</td>\n      <td>57.0</td>\n      <td>4114.0</td>\n      <td>40555.0</td>\n      <td>0.232476</td>\n    </tr>\n    <tr>\n      <td>9</td>\n      <td>97.0</td>\n      <td>7.0</td>\n      <td>3845.0</td>\n      <td>2535.0</td>\n      <td>3231397.0</td>\n      <td>7230.0</td>\n      <td>104.0</td>\n      <td>6380.0</td>\n      <td>3238627.0</td>\n      <td>0.232476</td>\n    </tr>\n    <tr>\n      <td>11</td>\n      <td>217.0</td>\n      <td>4.0</td>\n      <td>28305.0</td>\n      <td>6500.0</td>\n      <td>5722628.0</td>\n      <td>312007.0</td>\n      <td>221.0</td>\n      <td>34805.0</td>\n      <td>6034635.0</td>\n      <td>0.232476</td>\n    </tr>\n    <tr>\n      <td>14</td>\n      <td>79.0</td>\n      <td>4.0</td>\n      <td>4148.0</td>\n      <td>4540.0</td>\n      <td>32754526.0</td>\n      <td>34638.0</td>\n      <td>83.0</td>\n      <td>8688.0</td>\n      <td>32789164.0</td>\n      <td>0.232476</td>\n    </tr>\n    <tr>\n      <td>15</td>\n      <td>39.0</td>\n      <td>33.0</td>\n      <td>263.0</td>\n      <td>620.0</td>\n      <td>12964929.0</td>\n      <td>882193.0</td>\n      <td>72.0</td>\n      <td>883.0</td>\n      <td>13847122.0</td>\n      <td>0.232476</td>\n    </tr>\n    <tr>\n      <td>16</td>\n      <td>18.0</td>\n      <td>2.0</td>\n      <td>47.0</td>\n      <td>79.0</td>\n      <td>573621.0</td>\n      <td>21035.0</td>\n      <td>20.0</td>\n      <td>126.0</td>\n      <td>594656.0</td>\n      <td>0.232476</td>\n    </tr>\n    <tr>\n      <td>17</td>\n      <td>36.0</td>\n      <td>5.0</td>\n      <td>16.0</td>\n      <td>26.0</td>\n      <td>573621.0</td>\n      <td>21035.0</td>\n      <td>41.0</td>\n      <td>42.0</td>\n      <td>594656.0</td>\n      <td>0.232476</td>\n    </tr>\n    <tr>\n      <td>18</td>\n      <td>57.0</td>\n      <td>5.0</td>\n      <td>31.0</td>\n      <td>52.0</td>\n      <td>573621.0</td>\n      <td>21035.0</td>\n      <td>62.0</td>\n      <td>83.0</td>\n      <td>594656.0</td>\n      <td>0.232476</td>\n    </tr>\n    <tr>\n      <td>20</td>\n      <td>409.0</td>\n      <td>43.0</td>\n      <td>29501.0</td>\n      <td>10557.0</td>\n      <td>9844005.0</td>\n      <td>21586.0</td>\n      <td>452.0</td>\n      <td>40058.0</td>\n      <td>9865591.0</td>\n      <td>0.232476</td>\n    </tr>\n    <tr>\n      <td>21</td>\n      <td>63.0</td>\n      <td>6.0</td>\n      <td>4461.0</td>\n      <td>1912.0</td>\n      <td>24721850.0</td>\n      <td>26511.0</td>\n      <td>69.0</td>\n      <td>6373.0</td>\n      <td>24748361.0</td>\n      <td>0.232476</td>\n    </tr>\n    <tr>\n      <td>22</td>\n      <td>22.0</td>\n      <td>1.0</td>\n      <td>49.0</td>\n      <td>52.0</td>\n      <td>573621.0</td>\n      <td>21035.0</td>\n      <td>23.0</td>\n      <td>101.0</td>\n      <td>594656.0</td>\n      <td>0.232476</td>\n    </tr>\n    <tr>\n      <td>25</td>\n      <td>63.0</td>\n      <td>4.0</td>\n      <td>22.0</td>\n      <td>35.0</td>\n      <td>573621.0</td>\n      <td>21035.0</td>\n      <td>67.0</td>\n      <td>57.0</td>\n      <td>594656.0</td>\n      <td>0.232476</td>\n    </tr>\n    <tr>\n      <td>26</td>\n      <td>33.0</td>\n      <td>6.0</td>\n      <td>35.0</td>\n      <td>44.0</td>\n      <td>573621.0</td>\n      <td>21035.0</td>\n      <td>39.0</td>\n      <td>79.0</td>\n      <td>594656.0</td>\n      <td>0.232476</td>\n    </tr>\n    <tr>\n      <td>28</td>\n      <td>35.0</td>\n      <td>1.0</td>\n      <td>8.0</td>\n      <td>25.0</td>\n      <td>573621.0</td>\n      <td>21035.0</td>\n      <td>36.0</td>\n      <td>33.0</td>\n      <td>594656.0</td>\n      <td>0.232476</td>\n    </tr>\n    <tr>\n      <td>29</td>\n      <td>57.0</td>\n      <td>51.0</td>\n      <td>17457.0</td>\n      <td>325.0</td>\n      <td>573621.0</td>\n      <td>21035.0</td>\n      <td>108.0</td>\n      <td>17782.0</td>\n      <td>594656.0</td>\n      <td>0.232476</td>\n    </tr>\n    <tr>\n      <td>30</td>\n      <td>273.0</td>\n      <td>22.0</td>\n      <td>26037.0</td>\n      <td>7205.0</td>\n      <td>13144239.0</td>\n      <td>21035.0</td>\n      <td>295.0</td>\n      <td>33242.0</td>\n      <td>13165274.0</td>\n      <td>0.232476</td>\n    </tr>\n    <tr>\n      <td>32</td>\n      <td>12.0</td>\n      <td>2.0</td>\n      <td>41.0</td>\n      <td>54.0</td>\n      <td>573621.0</td>\n      <td>21035.0</td>\n      <td>14.0</td>\n      <td>95.0</td>\n      <td>594656.0</td>\n      <td>0.232476</td>\n    </tr>\n    <tr>\n      <td>34</td>\n      <td>32.0</td>\n      <td>1.0</td>\n      <td>22.0</td>\n      <td>38.0</td>\n      <td>573621.0</td>\n      <td>21035.0</td>\n      <td>33.0</td>\n      <td>60.0</td>\n      <td>594656.0</td>\n      <td>0.232476</td>\n    </tr>\n    <tr>\n      <td>36</td>\n      <td>27.0</td>\n      <td>5.0</td>\n      <td>15.0</td>\n      <td>26.0</td>\n      <td>573621.0</td>\n      <td>21035.0</td>\n      <td>32.0</td>\n      <td>41.0</td>\n      <td>594656.0</td>\n      <td>0.232476</td>\n    </tr>\n    <tr>\n      <td>38</td>\n      <td>79.0</td>\n      <td>2.0</td>\n      <td>9.0</td>\n      <td>178.0</td>\n      <td>68.0</td>\n      <td>428697.0</td>\n      <td>81.0</td>\n      <td>187.0</td>\n      <td>428765.0</td>\n      <td>0.232476</td>\n    </tr>\n    <tr>\n      <td>39</td>\n      <td>31.0</td>\n      <td>21.0</td>\n      <td>30.0</td>\n      <td>4.0</td>\n      <td>573621.0</td>\n      <td>21035.0</td>\n      <td>52.0</td>\n      <td>34.0</td>\n      <td>594656.0</td>\n      <td>0.232476</td>\n    </tr>\n    <tr>\n      <td>41</td>\n      <td>36.0</td>\n      <td>1.0</td>\n      <td>31.0</td>\n      <td>52.0</td>\n      <td>573621.0</td>\n      <td>21035.0</td>\n      <td>37.0</td>\n      <td>83.0</td>\n      <td>594656.0</td>\n      <td>0.232476</td>\n    </tr>\n    <tr>\n      <td>43</td>\n      <td>47.0</td>\n      <td>25.0</td>\n      <td>25620.0</td>\n      <td>796.0</td>\n      <td>218847.0</td>\n      <td>17308.0</td>\n      <td>72.0</td>\n      <td>26416.0</td>\n      <td>236155.0</td>\n      <td>0.232476</td>\n    </tr>\n    <tr>\n      <td>45</td>\n      <td>40.0</td>\n      <td>1.0</td>\n      <td>8.0</td>\n      <td>13.0</td>\n      <td>573621.0</td>\n      <td>21035.0</td>\n      <td>41.0</td>\n      <td>21.0</td>\n      <td>594656.0</td>\n      <td>0.232476</td>\n    </tr>\n    <tr>\n      <td>46</td>\n      <td>90.0</td>\n      <td>30.0</td>\n      <td>34097.0</td>\n      <td>1179.0</td>\n      <td>883703.0</td>\n      <td>283290.0</td>\n      <td>120.0</td>\n      <td>35276.0</td>\n      <td>1166993.0</td>\n      <td>0.232476</td>\n    </tr>\n    <tr>\n      <td>47</td>\n      <td>38.0</td>\n      <td>1.0</td>\n      <td>85.0</td>\n      <td>83.0</td>\n      <td>573621.0</td>\n      <td>21035.0</td>\n      <td>39.0</td>\n      <td>168.0</td>\n      <td>594656.0</td>\n      <td>0.232476</td>\n    </tr>\n    <tr>\n      <td>48</td>\n      <td>33.0</td>\n      <td>6.0</td>\n      <td>49.0</td>\n      <td>49.0</td>\n      <td>573621.0</td>\n      <td>21035.0</td>\n      <td>39.0</td>\n      <td>98.0</td>\n      <td>594656.0</td>\n      <td>0.232476</td>\n    </tr>\n    <tr>\n      <td>50</td>\n      <td>50.0</td>\n      <td>18.0</td>\n      <td>27585.0</td>\n      <td>959.0</td>\n      <td>75226.0</td>\n      <td>22406.0</td>\n      <td>68.0</td>\n      <td>28544.0</td>\n      <td>97632.0</td>\n      <td>0.232476</td>\n    </tr>\n    <tr>\n      <td>51</td>\n      <td>27.0</td>\n      <td>2.0</td>\n      <td>64.0</td>\n      <td>86.0</td>\n      <td>573621.0</td>\n      <td>21035.0</td>\n      <td>29.0</td>\n      <td>150.0</td>\n      <td>594656.0</td>\n      <td>0.232476</td>\n    </tr>\n    <tr>\n      <td>52</td>\n      <td>34.0</td>\n      <td>5.0</td>\n      <td>66.0</td>\n      <td>87.0</td>\n      <td>573621.0</td>\n      <td>21035.0</td>\n      <td>39.0</td>\n      <td>153.0</td>\n      <td>594656.0</td>\n      <td>0.232476</td>\n    </tr>\n    <tr>\n      <td>54</td>\n      <td>28.0</td>\n      <td>0.0</td>\n      <td>51.0</td>\n      <td>61.0</td>\n      <td>573621.0</td>\n      <td>21035.0</td>\n      <td>28.0</td>\n      <td>112.0</td>\n      <td>594656.0</td>\n      <td>0.232476</td>\n    </tr>\n    <tr>\n      <td>57</td>\n      <td>55.0</td>\n      <td>5.0</td>\n      <td>67.0</td>\n      <td>87.0</td>\n      <td>573621.0</td>\n      <td>21035.0</td>\n      <td>60.0</td>\n      <td>154.0</td>\n      <td>594656.0</td>\n      <td>0.232476</td>\n    </tr>\n    <tr>\n      <td>58</td>\n      <td>42.0</td>\n      <td>353.0</td>\n      <td>674.0</td>\n      <td>477.0</td>\n      <td>8568.0</td>\n      <td>21035.0</td>\n      <td>395.0</td>\n      <td>1151.0</td>\n      <td>29603.0</td>\n      <td>0.232476</td>\n    </tr>\n    <tr>\n      <td>59</td>\n      <td>32.0</td>\n      <td>1.0</td>\n      <td>16.0</td>\n      <td>26.0</td>\n      <td>573621.0</td>\n      <td>21035.0</td>\n      <td>33.0</td>\n      <td>42.0</td>\n      <td>594656.0</td>\n      <td>0.232476</td>\n    </tr>\n    <tr>\n      <td>61</td>\n      <td>213.0</td>\n      <td>6.0</td>\n      <td>60277.0</td>\n      <td>988.0</td>\n      <td>2199403.0</td>\n      <td>20024.0</td>\n      <td>219.0</td>\n      <td>61265.0</td>\n      <td>2219427.0</td>\n      <td>0.232476</td>\n    </tr>\n    <tr>\n      <td>62</td>\n      <td>52.0</td>\n      <td>11.0</td>\n      <td>14621.0</td>\n      <td>371.0</td>\n      <td>1432.0</td>\n      <td>21035.0</td>\n      <td>63.0</td>\n      <td>14992.0</td>\n      <td>22467.0</td>\n      <td>0.232476</td>\n    </tr>\n    <tr>\n      <td>63</td>\n      <td>75.0</td>\n      <td>14.0</td>\n      <td>3431.0</td>\n      <td>445.0</td>\n      <td>50420.0</td>\n      <td>512.0</td>\n      <td>89.0</td>\n      <td>3876.0</td>\n      <td>50932.0</td>\n      <td>0.232476</td>\n    </tr>\n    <tr>\n      <td>65</td>\n      <td>30.0</td>\n      <td>3.0</td>\n      <td>47.0</td>\n      <td>53.0</td>\n      <td>573621.0</td>\n      <td>21035.0</td>\n      <td>33.0</td>\n      <td>100.0</td>\n      <td>594656.0</td>\n      <td>0.232476</td>\n    </tr>\n    <tr>\n      <td>68</td>\n      <td>853.0</td>\n      <td>2.0</td>\n      <td>11517.0</td>\n      <td>10147.0</td>\n      <td>765968.0</td>\n      <td>31267.0</td>\n      <td>855.0</td>\n      <td>21664.0</td>\n      <td>797235.0</td>\n      <td>0.232476</td>\n    </tr>\n    <tr>\n      <td>70</td>\n      <td>30.0</td>\n      <td>1.0</td>\n      <td>82.0</td>\n      <td>54.0</td>\n      <td>573621.0</td>\n      <td>21035.0</td>\n      <td>31.0</td>\n      <td>136.0</td>\n      <td>594656.0</td>\n      <td>0.232476</td>\n    </tr>\n    <tr>\n      <td>71</td>\n      <td>21.0</td>\n      <td>2.0</td>\n      <td>63.0</td>\n      <td>135.0</td>\n      <td>573621.0</td>\n      <td>21035.0</td>\n      <td>23.0</td>\n      <td>198.0</td>\n      <td>594656.0</td>\n      <td>0.232476</td>\n    </tr>\n    <tr>\n      <td>72</td>\n      <td>42.0</td>\n      <td>530.0</td>\n      <td>639.0</td>\n      <td>377.0</td>\n      <td>5905.0</td>\n      <td>21035.0</td>\n      <td>572.0</td>\n      <td>1016.0</td>\n      <td>26940.0</td>\n      <td>0.232476</td>\n    </tr>\n    <tr>\n      <td>73</td>\n      <td>34.0</td>\n      <td>1.0</td>\n      <td>23.0</td>\n      <td>54.0</td>\n      <td>573621.0</td>\n      <td>21035.0</td>\n      <td>35.0</td>\n      <td>77.0</td>\n      <td>594656.0</td>\n      <td>0.232476</td>\n    </tr>\n    <tr>\n      <td>75</td>\n      <td>51.0</td>\n      <td>1.0</td>\n      <td>23.0</td>\n      <td>54.0</td>\n      <td>573621.0</td>\n      <td>21035.0</td>\n      <td>52.0</td>\n      <td>77.0</td>\n      <td>594656.0</td>\n      <td>0.232476</td>\n    </tr>\n    <tr>\n      <td>77</td>\n      <td>62.0</td>\n      <td>5.0</td>\n      <td>50.0</td>\n      <td>41.0</td>\n      <td>573621.0</td>\n      <td>21035.0</td>\n      <td>67.0</td>\n      <td>91.0</td>\n      <td>594656.0</td>\n      <td>0.232476</td>\n    </tr>\n    <tr>\n      <td>78</td>\n      <td>91.0</td>\n      <td>24.0</td>\n      <td>54827.0</td>\n      <td>8032.0</td>\n      <td>593180.0</td>\n      <td>64919.0</td>\n      <td>115.0</td>\n      <td>62859.0</td>\n      <td>658099.0</td>\n      <td>0.232476</td>\n    </tr>\n    <tr>\n      <td>79</td>\n      <td>13.0</td>\n      <td>5.0</td>\n      <td>45.0</td>\n      <td>56.0</td>\n      <td>573621.0</td>\n      <td>21035.0</td>\n      <td>18.0</td>\n      <td>101.0</td>\n      <td>594656.0</td>\n      <td>0.232476</td>\n    </tr>\n  </tbody>\n</table>\n</div>"
     },
     "metadata": {},
     "execution_count": 44
    }
   ],
   "source": [
    "focused_df.head(50)"
   ]
  },
  {
   "cell_type": "code",
   "execution_count": null,
   "metadata": {},
   "outputs": [],
   "source": []
  }
 ]
}